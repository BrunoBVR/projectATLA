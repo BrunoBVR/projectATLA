{
 "cells": [
  {
   "cell_type": "code",
   "execution_count": 1,
   "id": "f7cf7598",
   "metadata": {},
   "outputs": [],
   "source": [
    "# Bruno Viera Ribeiro"
   ]
  },
  {
   "cell_type": "code",
   "execution_count": 2,
   "id": "eaabb4fd",
   "metadata": {},
   "outputs": [],
   "source": [
    "import requests\n",
    "from bs4 import BeautifulSoup\n",
    "import re\n",
    "\n",
    "import pandas as pd\n",
    "import numpy as np\n",
    "import pickle"
   ]
  },
  {
   "cell_type": "code",
   "execution_count": 3,
   "id": "b3885814",
   "metadata": {},
   "outputs": [],
   "source": [
    "%config Completer.use_jedi = False        # For autocomplete to work!"
   ]
  },
  {
   "cell_type": "markdown",
   "id": "6040b07c",
   "metadata": {},
   "source": [
    "# Getting character image\n",
    "\n",
    "Start by checking for Aang's image and \"intro quote\"."
   ]
  },
  {
   "cell_type": "code",
   "execution_count": 40,
   "id": "771e7255",
   "metadata": {},
   "outputs": [],
   "source": [
    "url = 'https://avatar.fandom.com/wiki/'"
   ]
  },
  {
   "cell_type": "code",
   "execution_count": 41,
   "id": "582f85a7",
   "metadata": {},
   "outputs": [],
   "source": [
    "page = requests.get(url+'Aang')\n",
    "soup = BeautifulSoup(page.text, 'html.parser')"
   ]
  },
  {
   "cell_type": "code",
   "execution_count": 42,
   "id": "3a1db919",
   "metadata": {},
   "outputs": [],
   "source": [
    "img = soup.find('img', class_='pi-image-thumbnail')['src']"
   ]
  },
  {
   "cell_type": "code",
   "execution_count": 43,
   "id": "d1574635",
   "metadata": {},
   "outputs": [
    {
     "data": {
      "text/plain": [
       "'https://static.wikia.nocookie.net/avatar/images/a/ae/Aang_at_Jasmine_Dragon.png/revision/latest/scale-to-width-down/333?cb=20130612174003'"
      ]
     },
     "execution_count": 43,
     "metadata": {},
     "output_type": "execute_result"
    }
   ],
   "source": [
    "img"
   ]
  },
  {
   "cell_type": "code",
   "execution_count": 51,
   "id": "3798549f",
   "metadata": {},
   "outputs": [],
   "source": [
    "quote = soup.find('table', class_ = 'quote').find('i').text"
   ]
  },
  {
   "cell_type": "code",
   "execution_count": 52,
   "id": "78d3803d",
   "metadata": {},
   "outputs": [
    {
     "data": {
      "text/plain": [
       "\"I wasn't there when the Fire Nation attacked my people. I'm gonna make a difference this time.\""
      ]
     },
     "execution_count": 52,
     "metadata": {},
     "output_type": "execute_result"
    }
   ],
   "source": [
    "quote"
   ]
  },
  {
   "cell_type": "markdown",
   "id": "206514d5",
   "metadata": {},
   "source": [
    "## Now to list top 10 characters with more lines"
   ]
  },
  {
   "cell_type": "code",
   "execution_count": 53,
   "id": "f8bbb17e",
   "metadata": {},
   "outputs": [],
   "source": [
    "top10 = ('Aang', 'Sokka', 'Katara', 'Zuko', 'Toph', 'Iroh', 'Azula', 'Jet', 'Suki', 'Zhao')"
   ]
  },
  {
   "cell_type": "code",
   "execution_count": 54,
   "id": "134aa824",
   "metadata": {},
   "outputs": [],
   "source": [
    "char_info = {\n",
    "    'char':[],\n",
    "    'link':[],\n",
    "    'quote':[]\n",
    "}\n",
    "for char in top10:\n",
    "    char_info['char'].append(char)\n",
    "    \n",
    "    page = requests.get(url+char)\n",
    "    soup = BeautifulSoup(page.text, 'html.parser')\n",
    "    \n",
    "    char_info['link'].append(soup.find('img', class_='pi-image-thumbnail')['src'])\n",
    "    char_info['quote'].append(soup.find('table', class_ = 'quote').find('i').text)"
   ]
  },
  {
   "cell_type": "code",
   "execution_count": 74,
   "id": "7e90a9f2",
   "metadata": {},
   "outputs": [],
   "source": [
    "df_char = pd.DataFrame(char_info)"
   ]
  },
  {
   "cell_type": "code",
   "execution_count": 75,
   "id": "f589aadf",
   "metadata": {},
   "outputs": [
    {
     "data": {
      "text/html": [
       "<div>\n",
       "<style scoped>\n",
       "    .dataframe tbody tr th:only-of-type {\n",
       "        vertical-align: middle;\n",
       "    }\n",
       "\n",
       "    .dataframe tbody tr th {\n",
       "        vertical-align: top;\n",
       "    }\n",
       "\n",
       "    .dataframe thead th {\n",
       "        text-align: right;\n",
       "    }\n",
       "</style>\n",
       "<table border=\"1\" class=\"dataframe\">\n",
       "  <thead>\n",
       "    <tr style=\"text-align: right;\">\n",
       "      <th></th>\n",
       "      <th>char</th>\n",
       "      <th>link</th>\n",
       "      <th>quote</th>\n",
       "    </tr>\n",
       "  </thead>\n",
       "  <tbody>\n",
       "    <tr>\n",
       "      <th>0</th>\n",
       "      <td>Aang</td>\n",
       "      <td>https://static.wikia.nocookie.net/avatar/image...</td>\n",
       "      <td>I wasn't there when the Fire Nation attacked m...</td>\n",
       "    </tr>\n",
       "    <tr>\n",
       "      <th>1</th>\n",
       "      <td>Sokka</td>\n",
       "      <td>https://static.wikia.nocookie.net/avatar/image...</td>\n",
       "      <td>That's all I got. It's pretty much my whole id...</td>\n",
       "    </tr>\n",
       "    <tr>\n",
       "      <th>2</th>\n",
       "      <td>Katara</td>\n",
       "      <td>https://static.wikia.nocookie.net/avatar/image...</td>\n",
       "      <td>I will never, ever turn my back on people who ...</td>\n",
       "    </tr>\n",
       "    <tr>\n",
       "      <th>3</th>\n",
       "      <td>Zuko</td>\n",
       "      <td>https://static.wikia.nocookie.net/avatar/image...</td>\n",
       "      <td>I used to think this scar marked me – the mark...</td>\n",
       "    </tr>\n",
       "    <tr>\n",
       "      <th>4</th>\n",
       "      <td>Toph</td>\n",
       "      <td>https://static.wikia.nocookie.net/avatar/image...</td>\n",
       "      <td>I love fighting. I love being an earthbender, ...</td>\n",
       "    </tr>\n",
       "    <tr>\n",
       "      <th>5</th>\n",
       "      <td>Iroh</td>\n",
       "      <td>https://static.wikia.nocookie.net/avatar/image...</td>\n",
       "      <td>After I reconquer Ba Sing Se, I'm going to rec...</td>\n",
       "    </tr>\n",
       "    <tr>\n",
       "      <th>6</th>\n",
       "      <td>Azula</td>\n",
       "      <td>https://static.wikia.nocookie.net/avatar/image...</td>\n",
       "      <td>Well what choice do I have? Trust is for fools...</td>\n",
       "    </tr>\n",
       "    <tr>\n",
       "      <th>7</th>\n",
       "      <td>Jet</td>\n",
       "      <td>https://static.wikia.nocookie.net/avatar/image...</td>\n",
       "      <td>My name is Jet, and these are my Freedom Fight...</td>\n",
       "    </tr>\n",
       "    <tr>\n",
       "      <th>8</th>\n",
       "      <td>Suki</td>\n",
       "      <td>https://static.wikia.nocookie.net/avatar/image...</td>\n",
       "      <td>I am a warrior, but I'm a girl too.</td>\n",
       "    </tr>\n",
       "    <tr>\n",
       "      <th>9</th>\n",
       "      <td>Zhao</td>\n",
       "      <td>https://static.wikia.nocookie.net/avatar/image...</td>\n",
       "      <td>I am a legend now! The Fire Nation will for ge...</td>\n",
       "    </tr>\n",
       "  </tbody>\n",
       "</table>\n",
       "</div>"
      ],
      "text/plain": [
       "     char                                               link  \\\n",
       "0    Aang  https://static.wikia.nocookie.net/avatar/image...   \n",
       "1   Sokka  https://static.wikia.nocookie.net/avatar/image...   \n",
       "2  Katara  https://static.wikia.nocookie.net/avatar/image...   \n",
       "3    Zuko  https://static.wikia.nocookie.net/avatar/image...   \n",
       "4    Toph  https://static.wikia.nocookie.net/avatar/image...   \n",
       "5    Iroh  https://static.wikia.nocookie.net/avatar/image...   \n",
       "6   Azula  https://static.wikia.nocookie.net/avatar/image...   \n",
       "7     Jet  https://static.wikia.nocookie.net/avatar/image...   \n",
       "8    Suki  https://static.wikia.nocookie.net/avatar/image...   \n",
       "9    Zhao  https://static.wikia.nocookie.net/avatar/image...   \n",
       "\n",
       "                                               quote  \n",
       "0  I wasn't there when the Fire Nation attacked m...  \n",
       "1  That's all I got. It's pretty much my whole id...  \n",
       "2  I will never, ever turn my back on people who ...  \n",
       "3  I used to think this scar marked me – the mark...  \n",
       "4  I love fighting. I love being an earthbender, ...  \n",
       "5  After I reconquer Ba Sing Se, I'm going to rec...  \n",
       "6  Well what choice do I have? Trust is for fools...  \n",
       "7  My name is Jet, and these are my Freedom Fight...  \n",
       "8                I am a warrior, but I'm a girl too.  \n",
       "9  I am a legend now! The Fire Nation will for ge...  "
      ]
     },
     "execution_count": 75,
     "metadata": {},
     "output_type": "execute_result"
    }
   ],
   "source": [
    "df_char"
   ]
  },
  {
   "cell_type": "code",
   "execution_count": 97,
   "id": "964fad1a",
   "metadata": {},
   "outputs": [],
   "source": [
    "df_char.at[6, 'quote'] = 'Well what choice do I have? Trust is for fools! Fear is the only reliable way. Even you fear me.'"
   ]
  },
  {
   "cell_type": "code",
   "execution_count": 98,
   "id": "08c99ef4",
   "metadata": {},
   "outputs": [
    {
     "data": {
      "text/plain": [
       "'https://static.wikia.nocookie.net/avatar/images/a/ae/Aang_at_Jasmine_Dragon.png/revision/latest/scale-to-width-down/333?cb=20130612174003'"
      ]
     },
     "execution_count": 98,
     "metadata": {},
     "output_type": "execute_result"
    }
   ],
   "source": [
    "df_char[df_char.char=='Aang']['link'].values[0]"
   ]
  },
  {
   "cell_type": "code",
   "execution_count": 99,
   "id": "ee4c6564",
   "metadata": {},
   "outputs": [],
   "source": [
    "def get_info(kind, character):\n",
    "    if kind == 'link':\n",
    "        test_str = df_char[df_char.char==character][kind].values[0]\n",
    "        # slicing off after .png\n",
    "        res = test_str[:test_str.index('.png') + len('.png')]\n",
    "        return res\n",
    "    \n",
    "    else:\n",
    "        return df_char[df_char.char==character][kind].values[0]"
   ]
  },
  {
   "cell_type": "code",
   "execution_count": 100,
   "id": "51652f48",
   "metadata": {},
   "outputs": [
    {
     "data": {
      "text/plain": [
       "'https://static.wikia.nocookie.net/avatar/images/7/7a/Katara_smiles_at_coronation.png'"
      ]
     },
     "execution_count": 100,
     "metadata": {},
     "output_type": "execute_result"
    }
   ],
   "source": [
    "get_info('link', 'Katara')"
   ]
  },
  {
   "cell_type": "code",
   "execution_count": 101,
   "id": "2deb5e32",
   "metadata": {},
   "outputs": [
    {
     "data": {
      "text/plain": [
       "'I will never, ever turn my back on people who need me!'"
      ]
     },
     "execution_count": 101,
     "metadata": {},
     "output_type": "execute_result"
    }
   ],
   "source": [
    "get_info('quote', 'Katara')"
   ]
  },
  {
   "cell_type": "code",
   "execution_count": 102,
   "id": "e34a2834",
   "metadata": {},
   "outputs": [],
   "source": [
    "with open('./data/link_quote.data', 'wb') as filehandle:\n",
    "    # store the data as binary data stream\n",
    "    pickle.dump(df_char, filehandle)"
   ]
  },
  {
   "cell_type": "code",
   "execution_count": 103,
   "id": "5eae8168",
   "metadata": {},
   "outputs": [
    {
     "name": "stdout",
     "output_type": "stream",
     "text": [
      "The string after removal : https://static.wikia.nocookie.net/avatar/images/7/7a/Katara_smiles_at_coronation.png\n"
     ]
    }
   ],
   "source": [
    "test_str = get_info('link', 'Katara')\n",
    "# initializing sub string\n",
    "sub_str = \".png\"\n",
    "  \n",
    "# slicing off after length computation\n",
    "res = test_str[:test_str.index(sub_str) + len(sub_str)]\n",
    "  \n",
    "# printing result \n",
    "print(\"The string after removal : \" + str(res)) "
   ]
  },
  {
   "cell_type": "code",
   "execution_count": 104,
   "id": "edb8267e",
   "metadata": {},
   "outputs": [
    {
     "data": {
      "text/plain": [
       "'Well what choice do I have? Trust is for fools! Fear is the only reliable way. Even you fear me.'"
      ]
     },
     "execution_count": 104,
     "metadata": {},
     "output_type": "execute_result"
    }
   ],
   "source": [
    "get_info('quote', 'Azula')"
   ]
  },
  {
   "cell_type": "code",
   "execution_count": 105,
   "id": "ad1ccec2",
   "metadata": {},
   "outputs": [
    {
     "data": {
      "text/plain": [
       "array(['Well what choice do I have? Trust is for fools! Fear is the only reliable way. Even you fear me.'],\n",
       "      dtype=object)"
      ]
     },
     "execution_count": 105,
     "metadata": {},
     "output_type": "execute_result"
    }
   ],
   "source": [
    "df_char[df_char.char=='Azula']['quote'].values"
   ]
  },
  {
   "cell_type": "code",
   "execution_count": null,
   "id": "f62cc8f0",
   "metadata": {},
   "outputs": [],
   "source": []
  }
 ],
 "metadata": {
  "kernelspec": {
   "display_name": "Python 3",
   "language": "python",
   "name": "python3"
  },
  "language_info": {
   "codemirror_mode": {
    "name": "ipython",
    "version": 3
   },
   "file_extension": ".py",
   "mimetype": "text/x-python",
   "name": "python",
   "nbconvert_exporter": "python",
   "pygments_lexer": "ipython3",
   "version": "3.8.10"
  }
 },
 "nbformat": 4,
 "nbformat_minor": 5
}
