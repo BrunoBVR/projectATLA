{
 "cells": [
  {
   "cell_type": "code",
   "execution_count": 1,
   "id": "federal-blogger",
   "metadata": {},
   "outputs": [],
   "source": [
    "# Bruno Vieira Ribeiro - 2021"
   ]
  },
  {
   "cell_type": "code",
   "execution_count": 2,
   "id": "atmospheric-order",
   "metadata": {},
   "outputs": [],
   "source": [
    "import requests\n",
    "from bs4 import BeautifulSoup\n",
    "import re\n",
    "\n",
    "import pandas as pd\n",
    "import numpy as np\n",
    "import pickle"
   ]
  },
  {
   "cell_type": "code",
   "execution_count": 3,
   "id": "incoming-taste",
   "metadata": {},
   "outputs": [],
   "source": [
    "%config Completer.use_jedi = False        # For autocomplete to work!"
   ]
  },
  {
   "cell_type": "markdown",
   "id": "composite-darkness",
   "metadata": {},
   "source": [
    "# Getting lines from *The Legend of Aang*\n",
    "\n",
    "Page with all the links to episodes:"
   ]
  },
  {
   "cell_type": "code",
   "execution_count": 4,
   "id": "surrounded-hughes",
   "metadata": {},
   "outputs": [],
   "source": [
    "url = 'https://avatar.fandom.com/wiki/Avatar_Wiki:Transcripts#Book_One:_Water'"
   ]
  },
  {
   "cell_type": "code",
   "execution_count": 5,
   "id": "northern-organ",
   "metadata": {},
   "outputs": [],
   "source": [
    "page = requests.get(url)\n",
    "soup = BeautifulSoup(page.text, 'html.parser')\n",
    "\n",
    "# dfs = pd.read_html(page.text)"
   ]
  },
  {
   "cell_type": "markdown",
   "id": "psychological-failing",
   "metadata": {},
   "source": [
    "Getting all links to seasons from html tables:"
   ]
  },
  {
   "cell_type": "code",
   "execution_count": 6,
   "id": "critical-concentrate",
   "metadata": {},
   "outputs": [],
   "source": [
    "seasons = soup.find_all('table', class_='wikitable')"
   ]
  },
  {
   "cell_type": "markdown",
   "id": "immune-hostel",
   "metadata": {},
   "source": [
    "We need to select only the ones for Aangs story:\n",
    "Inspecting the base url we see that tables `1` trough `6` correspond to ATLA episodes. So, we can simply pick these ones:"
   ]
  },
  {
   "cell_type": "code",
   "execution_count": 7,
   "id": "champion-compiler",
   "metadata": {},
   "outputs": [
    {
     "name": "stdout",
     "output_type": "stream",
     "text": [
      "https://avatar.fandom.com/wiki/Transcript:The_Boy_in_the_Iceberg\n",
      "https://avatar.fandom.com/wiki/Transcript:The_Avatar_Returns\n",
      "https://avatar.fandom.com/wiki/Transcript:The_Southern_Air_Temple\n",
      "https://avatar.fandom.com/wiki/Transcript:The_Warriors_of_Kyoshi\n",
      "https://avatar.fandom.com/wiki/Transcript:The_King_of_Omashu\n",
      "https://avatar.fandom.com/wiki/Transcript:Imprisoned\n",
      "https://avatar.fandom.com/wiki/Transcript:Winter_Solstice,_Part_1:_The_Spirit_World\n",
      "https://avatar.fandom.com/wiki/Transcript:Winter_Solstice,_Part_2:_Avatar_Roku\n",
      "https://avatar.fandom.com/wiki/Transcript:The_Waterbending_Scroll\n",
      "https://avatar.fandom.com/wiki/Transcript:Jet_(episode)\n",
      "https://avatar.fandom.com/wiki/Transcript:The_Great_Divide\n",
      "https://avatar.fandom.com/wiki/Transcript:The_Storm\n",
      "https://avatar.fandom.com/wiki/Transcript:The_Blue_Spirit\n",
      "https://avatar.fandom.com/wiki/Transcript:The_Fortuneteller\n",
      "https://avatar.fandom.com/wiki/Transcript:Bato_of_the_Water_Tribe\n",
      "https://avatar.fandom.com/wiki/Transcript:The_Deserter\n",
      "https://avatar.fandom.com/wiki/Transcript:The_Northern_Air_Temple\n",
      "https://avatar.fandom.com/wiki/Transcript:The_Northern_Air_Temple_(commentary)\n",
      "https://avatar.fandom.com/wiki/Transcript:The_Waterbending_Master\n",
      "https://avatar.fandom.com/wiki/Transcript:The_Waterbending_Master_(commentary)\n",
      "https://avatar.fandom.com/wiki/Transcript:The_Siege_of_the_North,_Part_1\n",
      "https://avatar.fandom.com/wiki/Transcript:The_Siege_of_the_North,_Part_1_(commentary)\n",
      "https://avatar.fandom.com/wiki/Transcript:The_Siege_of_the_North,_Part_2\n",
      "https://avatar.fandom.com/wiki/Transcript:The_Siege_of_the_North,_Part_2_(commentary)\n",
      "https://avatar.fandom.com/wiki/Transcript:The_Avatar_State\n",
      "https://avatar.fandom.com/wiki/Transcript:The_Cave_of_Two_Lovers\n",
      "https://avatar.fandom.com/wiki/Transcript:Return_to_Omashu\n",
      "https://avatar.fandom.com/wiki/Transcript:The_Swamp\n",
      "https://avatar.fandom.com/wiki/Transcript:Avatar_Day\n",
      "https://avatar.fandom.com/wiki/Transcript:The_Blind_Bandit\n",
      "https://avatar.fandom.com/wiki/Transcript:The_Blind_Bandit_(commentary)\n",
      "https://avatar.fandom.com/wiki/Transcript:Zuko_Alone\n",
      "https://avatar.fandom.com/wiki/Transcript:The_Chase\n",
      "https://avatar.fandom.com/wiki/Transcript:The_Chase_(commentary)\n",
      "https://avatar.fandom.com/wiki/Transcript:Bitter_Work\n",
      "https://avatar.fandom.com/wiki/Transcript:The_Library\n",
      "https://avatar.fandom.com/wiki/Transcript:The_Desert\n",
      "https://avatar.fandom.com/wiki/Transcript:The_Serpent%27s_Pass\n",
      "https://avatar.fandom.com/wiki/Transcript:The_Serpent%27s_Pass_(commentary)\n",
      "https://avatar.fandom.com/wiki/Transcript:The_Drill\n",
      "https://avatar.fandom.com/wiki/Transcript:City_of_Walls_and_Secrets\n",
      "https://avatar.fandom.com/wiki/Transcript:The_Tales_of_Ba_Sing_Se\n",
      "https://avatar.fandom.com/wiki/Transcript:Appa%27s_Lost_Days\n",
      "https://avatar.fandom.com/wiki/Transcript:Lake_Laogai_(episode)\n",
      "https://avatar.fandom.com/wiki/Transcript:The_Earth_King\n",
      "https://avatar.fandom.com/wiki/Transcript:The_Guru\n",
      "https://avatar.fandom.com/wiki/Transcript:The_Crossroads_of_Destiny\n",
      "https://avatar.fandom.com/wiki/Transcript:Escape_from_the_Spirit_World\n",
      "https://avatar.fandom.com/wiki/Transcript:The_Awakening\n",
      "https://avatar.fandom.com/wiki/Transcript:The_Headband\n",
      "https://avatar.fandom.com/wiki/Transcript:The_Painted_Lady\n",
      "https://avatar.fandom.com/wiki/Transcript:Sokka%27s_Master\n",
      "https://avatar.fandom.com/wiki/Transcript:The_Beach\n",
      "https://avatar.fandom.com/wiki/Transcript:The_Avatar_and_the_Fire_Lord\n",
      "https://avatar.fandom.com/wiki/Transcript:The_Runaway\n",
      "https://avatar.fandom.com/wiki/Transcript:The_Puppetmaster\n",
      "https://avatar.fandom.com/wiki/Transcript:Nightmares_and_Daydreams\n",
      "https://avatar.fandom.com/wiki/Transcript:The_Day_of_Black_Sun,_Part_1:_The_Invasion\n",
      "https://avatar.fandom.com/wiki/Transcript:The_Day_of_Black_Sun,_Part_2:_The_Eclipse\n",
      "https://avatar.fandom.com/wiki/Transcript:The_Western_Air_Temple\n",
      "https://avatar.fandom.com/wiki/Transcript:The_Firebending_Masters\n",
      "https://avatar.fandom.com/wiki/Transcript:The_Boiling_Rock,_Part_1\n",
      "https://avatar.fandom.com/wiki/Transcript:The_Boiling_Rock,_Part_2\n",
      "https://avatar.fandom.com/wiki/Transcript:The_Southern_Raiders\n",
      "https://avatar.fandom.com/wiki/Transcript:The_Ember_Island_Players\n",
      "https://avatar.fandom.com/wiki/Transcript:Sozin%27s_Comet,_Part_1:_The_Phoenix_King\n",
      "https://avatar.fandom.com/wiki/Transcript:Sozin%27s_Comet,_Part_2:_The_Old_Masters\n",
      "https://avatar.fandom.com/wiki/Transcript:Sozin%27s_Comet,_Part_3:_Into_the_Inferno\n",
      "https://avatar.fandom.com/wiki/Transcript:Sozin%27s_Comet,_Part_4:_Avatar_Aang\n"
     ]
    }
   ],
   "source": [
    "for el in seasons[1:7]:\n",
    "    col = el.find_all('a')\n",
    "    for episode in col:\n",
    "        print('https://avatar.fandom.com' + episode['href'])"
   ]
  },
  {
   "cell_type": "markdown",
   "id": "numerous-portfolio",
   "metadata": {},
   "source": [
    "Now to turn this into an iterable:\n",
    "We'll create a list and append all links to it. After the list is complete, we will convert it to a tuple as we are only going to iterate over it (only acessing elements).\n",
    "\n",
    "There are 5 episodes here that I'll discard: All the `commentary` episodes and the `Escape from the Spirit World` one in the beginning of Book 3 (because it is, actually, an online game, not an episode - although canonical...)."
   ]
  },
  {
   "cell_type": "code",
   "execution_count": 8,
   "id": "informed-absolute",
   "metadata": {},
   "outputs": [],
   "source": [
    "links_list = []\n",
    "\n",
    "for el in seasons[1:7]:\n",
    "    col = el.find_all('a')\n",
    "    for episode in col:\n",
    "        # Check if episode is not a commentary nor is it the online game called Escape from the Spirit World\n",
    "        if not any(x in episode['href'] for x in ['commentary', 'Escape']):\n",
    "            links_list.append('https://avatar.fandom.com' + episode['href'])\n",
    "links = tuple(links_list)"
   ]
  },
  {
   "cell_type": "code",
   "execution_count": 9,
   "id": "baking-membership",
   "metadata": {},
   "outputs": [
    {
     "data": {
      "text/plain": [
       "('https://avatar.fandom.com/wiki/Transcript:The_Boy_in_the_Iceberg',\n",
       " 'https://avatar.fandom.com/wiki/Transcript:The_Avatar_Returns',\n",
       " 'https://avatar.fandom.com/wiki/Transcript:The_Southern_Air_Temple',\n",
       " 'https://avatar.fandom.com/wiki/Transcript:The_Warriors_of_Kyoshi',\n",
       " 'https://avatar.fandom.com/wiki/Transcript:The_King_of_Omashu',\n",
       " 'https://avatar.fandom.com/wiki/Transcript:Imprisoned',\n",
       " 'https://avatar.fandom.com/wiki/Transcript:Winter_Solstice,_Part_1:_The_Spirit_World',\n",
       " 'https://avatar.fandom.com/wiki/Transcript:Winter_Solstice,_Part_2:_Avatar_Roku',\n",
       " 'https://avatar.fandom.com/wiki/Transcript:The_Waterbending_Scroll',\n",
       " 'https://avatar.fandom.com/wiki/Transcript:Jet_(episode)',\n",
       " 'https://avatar.fandom.com/wiki/Transcript:The_Great_Divide',\n",
       " 'https://avatar.fandom.com/wiki/Transcript:The_Storm',\n",
       " 'https://avatar.fandom.com/wiki/Transcript:The_Blue_Spirit',\n",
       " 'https://avatar.fandom.com/wiki/Transcript:The_Fortuneteller',\n",
       " 'https://avatar.fandom.com/wiki/Transcript:Bato_of_the_Water_Tribe',\n",
       " 'https://avatar.fandom.com/wiki/Transcript:The_Deserter',\n",
       " 'https://avatar.fandom.com/wiki/Transcript:The_Northern_Air_Temple',\n",
       " 'https://avatar.fandom.com/wiki/Transcript:The_Waterbending_Master',\n",
       " 'https://avatar.fandom.com/wiki/Transcript:The_Siege_of_the_North,_Part_1',\n",
       " 'https://avatar.fandom.com/wiki/Transcript:The_Siege_of_the_North,_Part_2',\n",
       " 'https://avatar.fandom.com/wiki/Transcript:The_Avatar_State',\n",
       " 'https://avatar.fandom.com/wiki/Transcript:The_Cave_of_Two_Lovers',\n",
       " 'https://avatar.fandom.com/wiki/Transcript:Return_to_Omashu',\n",
       " 'https://avatar.fandom.com/wiki/Transcript:The_Swamp',\n",
       " 'https://avatar.fandom.com/wiki/Transcript:Avatar_Day',\n",
       " 'https://avatar.fandom.com/wiki/Transcript:The_Blind_Bandit',\n",
       " 'https://avatar.fandom.com/wiki/Transcript:Zuko_Alone',\n",
       " 'https://avatar.fandom.com/wiki/Transcript:The_Chase',\n",
       " 'https://avatar.fandom.com/wiki/Transcript:Bitter_Work',\n",
       " 'https://avatar.fandom.com/wiki/Transcript:The_Library',\n",
       " 'https://avatar.fandom.com/wiki/Transcript:The_Desert',\n",
       " 'https://avatar.fandom.com/wiki/Transcript:The_Serpent%27s_Pass',\n",
       " 'https://avatar.fandom.com/wiki/Transcript:The_Drill',\n",
       " 'https://avatar.fandom.com/wiki/Transcript:City_of_Walls_and_Secrets',\n",
       " 'https://avatar.fandom.com/wiki/Transcript:The_Tales_of_Ba_Sing_Se',\n",
       " 'https://avatar.fandom.com/wiki/Transcript:Appa%27s_Lost_Days',\n",
       " 'https://avatar.fandom.com/wiki/Transcript:Lake_Laogai_(episode)',\n",
       " 'https://avatar.fandom.com/wiki/Transcript:The_Earth_King',\n",
       " 'https://avatar.fandom.com/wiki/Transcript:The_Guru',\n",
       " 'https://avatar.fandom.com/wiki/Transcript:The_Crossroads_of_Destiny',\n",
       " 'https://avatar.fandom.com/wiki/Transcript:The_Awakening',\n",
       " 'https://avatar.fandom.com/wiki/Transcript:The_Headband',\n",
       " 'https://avatar.fandom.com/wiki/Transcript:The_Painted_Lady',\n",
       " 'https://avatar.fandom.com/wiki/Transcript:Sokka%27s_Master',\n",
       " 'https://avatar.fandom.com/wiki/Transcript:The_Beach',\n",
       " 'https://avatar.fandom.com/wiki/Transcript:The_Avatar_and_the_Fire_Lord',\n",
       " 'https://avatar.fandom.com/wiki/Transcript:The_Runaway',\n",
       " 'https://avatar.fandom.com/wiki/Transcript:The_Puppetmaster',\n",
       " 'https://avatar.fandom.com/wiki/Transcript:Nightmares_and_Daydreams',\n",
       " 'https://avatar.fandom.com/wiki/Transcript:The_Day_of_Black_Sun,_Part_1:_The_Invasion',\n",
       " 'https://avatar.fandom.com/wiki/Transcript:The_Day_of_Black_Sun,_Part_2:_The_Eclipse',\n",
       " 'https://avatar.fandom.com/wiki/Transcript:The_Western_Air_Temple',\n",
       " 'https://avatar.fandom.com/wiki/Transcript:The_Firebending_Masters',\n",
       " 'https://avatar.fandom.com/wiki/Transcript:The_Boiling_Rock,_Part_1',\n",
       " 'https://avatar.fandom.com/wiki/Transcript:The_Boiling_Rock,_Part_2',\n",
       " 'https://avatar.fandom.com/wiki/Transcript:The_Southern_Raiders',\n",
       " 'https://avatar.fandom.com/wiki/Transcript:The_Ember_Island_Players',\n",
       " 'https://avatar.fandom.com/wiki/Transcript:Sozin%27s_Comet,_Part_1:_The_Phoenix_King',\n",
       " 'https://avatar.fandom.com/wiki/Transcript:Sozin%27s_Comet,_Part_2:_The_Old_Masters',\n",
       " 'https://avatar.fandom.com/wiki/Transcript:Sozin%27s_Comet,_Part_3:_Into_the_Inferno',\n",
       " 'https://avatar.fandom.com/wiki/Transcript:Sozin%27s_Comet,_Part_4:_Avatar_Aang')"
      ]
     },
     "execution_count": 9,
     "metadata": {},
     "output_type": "execute_result"
    }
   ],
   "source": [
    "links"
   ]
  },
  {
   "cell_type": "markdown",
   "id": "silver-clothing",
   "metadata": {},
   "source": [
    "Great! Now to check if actually got all 61 episodes:"
   ]
  },
  {
   "cell_type": "code",
   "execution_count": 10,
   "id": "talented-toyota",
   "metadata": {},
   "outputs": [
    {
     "data": {
      "text/plain": [
       "61"
      ]
     },
     "execution_count": 10,
     "metadata": {},
     "output_type": "execute_result"
    }
   ],
   "source": [
    "len(links)"
   ]
  },
  {
   "cell_type": "markdown",
   "id": "global-express",
   "metadata": {},
   "source": [
    "Episodes 1 and 2 of Book 1 and 8 of Book 3  have a first table with the opening lines from Katara or a **previous** line. So, we'll need to take care of that.\n",
    "\n",
    "Also, the episode *The Tales of Ba Sing Se* is very different as it has 7 html tables. Of these, there is one for each *Tale* within the epsiode.\n",
    "\n",
    "I would like to have, for each \"script line\" the number of the episode and the Book it corresponds to."
   ]
  },
  {
   "cell_type": "code",
   "execution_count": 11,
   "id": "47b28794",
   "metadata": {},
   "outputs": [],
   "source": [
    "# # Checking number of html tables in each episode\n",
    "# for number, link in enumerate(links):\n",
    "#     print(number, len(pd.read_html(link)))"
   ]
  },
  {
   "cell_type": "code",
   "execution_count": 12,
   "id": "spatial-airplane",
   "metadata": {},
   "outputs": [
    {
     "name": "stdout",
     "output_type": "stream",
     "text": [
      "Getting episode number 0\n",
      "Getting episode number 1\n",
      "Getting episode number 2\n",
      "Getting episode number 3\n",
      "Getting episode number 4\n",
      "Getting episode number 5\n",
      "Getting episode number 6\n",
      "Getting episode number 7\n",
      "Getting episode number 8\n",
      "Getting episode number 9\n",
      "Getting episode number 10\n",
      "Getting episode number 11\n",
      "Getting episode number 12\n",
      "Getting episode number 13\n",
      "Getting episode number 14\n",
      "Getting episode number 15\n",
      "Getting episode number 16\n",
      "Getting episode number 17\n",
      "Getting episode number 18\n",
      "Getting episode number 19\n",
      "Getting episode number 20\n",
      "Getting episode number 21\n",
      "Getting episode number 22\n",
      "Getting episode number 23\n",
      "Getting episode number 24\n",
      "Getting episode number 25\n",
      "Getting episode number 26\n",
      "Getting episode number 27\n",
      "Getting episode number 28\n",
      "Getting episode number 29\n",
      "Getting episode number 30\n",
      "Getting episode number 31\n",
      "Getting episode number 32\n",
      "Getting episode number 33\n",
      "Getting episode number 34\n",
      "Getting episode number 35\n",
      "Getting episode number 36\n",
      "Getting episode number 37\n",
      "Getting episode number 38\n",
      "Getting episode number 39\n",
      "Getting episode number 40\n",
      "Getting episode number 41\n",
      "Getting episode number 42\n",
      "Getting episode number 43\n",
      "Getting episode number 44\n",
      "Getting episode number 45\n",
      "Getting episode number 46\n",
      "Getting episode number 47\n",
      "Getting episode number 48\n",
      "Getting episode number 49\n",
      "Getting episode number 50\n",
      "Getting episode number 51\n",
      "Getting episode number 52\n",
      "Getting episode number 53\n",
      "Getting episode number 54\n",
      "Getting episode number 55\n",
      "Getting episode number 56\n",
      "Getting episode number 57\n",
      "Getting episode number 58\n",
      "Getting episode number 59\n",
      "Getting episode number 60\n"
     ]
    }
   ],
   "source": [
    "episodes_dict = {}\n",
    "ep_count = 0\n",
    "# Big loop through all the links:\n",
    "for number, link in enumerate(links):\n",
    "    print('Getting episode number', number)\n",
    "\n",
    "    # Check for first two episodes containing a first table with opening (and the Puppetmaster episode)\n",
    "    if number == 0 or number == 1 or number == 47:\n",
    "        episodes_dict[str(number)] = pd.read_html(link)[1]\n",
    "\n",
    "    elif number == 34:  # Dealing with multiple 'tales' inside the same episode (all are different tables)\n",
    "        tales = []\n",
    "        for i in range(5):\n",
    "            tales.append(pd.read_html(links[34])[i])\n",
    "\n",
    "        episodes_dict[str(number)] = pd.concat(tales)\n",
    "\n",
    "    else:\n",
    "        episodes_dict[str(number)] = pd.read_html(link)[0]\n",
    "\n",
    "    # Renaming columns for clarity\n",
    "    episodes_dict[str(number)].columns = ['Character', 'script']\n",
    "    # Initializing empty column for the episode number (within a given Book)\n",
    "    episodes_dict[str(number)]['ep_number'] = ''\n",
    "\n",
    "    # The first 20 episodes are from Book 1. Book 2 has 20 and Book 4, 21.\n",
    "    if number < 20:\n",
    "        episodes_dict[str(number)]['Book'] = 1\n",
    "        ep_count += 1\n",
    "        episodes_dict[str(number)]['ep_number'] = ep_count\n",
    "    elif number < 40:\n",
    "        episodes_dict[str(number)]['Book'] = 2\n",
    "        # Small trick to restart episode number counter when we change books\n",
    "        if episodes_dict[str(number - 1)].iloc[0]['Book'] != episodes_dict[str(\n",
    "                number)].iloc[0]['Book']:\n",
    "            ep_count = 0\n",
    "        ep_count += 1\n",
    "        episodes_dict[str(number)]['ep_number'] = ep_count\n",
    "    else:\n",
    "        episodes_dict[str(number)]['Book'] = 3\n",
    "        # Small trick to restart episode number counter when we change books\n",
    "        if episodes_dict[str(number - 1)].iloc[0]['Book'] != episodes_dict[str(\n",
    "                number)].iloc[0]['Book']:\n",
    "            ep_count = 0\n",
    "        ep_count += 1\n",
    "        episodes_dict[str(number)]['ep_number'] = ep_count"
   ]
  },
  {
   "cell_type": "markdown",
   "id": "royal-berry",
   "metadata": {},
   "source": [
    "Another sanity check:"
   ]
  },
  {
   "cell_type": "code",
   "execution_count": 13,
   "id": "daily-aberdeen",
   "metadata": {},
   "outputs": [
    {
     "data": {
      "text/plain": [
       "61"
      ]
     },
     "execution_count": 13,
     "metadata": {},
     "output_type": "execute_result"
    }
   ],
   "source": [
    "len(episodes_dict)"
   ]
  },
  {
   "cell_type": "markdown",
   "id": "three-creation",
   "metadata": {},
   "source": [
    "I'll use pickle to dump this dictionary into an object for easy use later."
   ]
  },
  {
   "cell_type": "code",
   "execution_count": 14,
   "id": "superior-fields",
   "metadata": {},
   "outputs": [],
   "source": [
    "with open('./data/episodes_dict.data', 'wb') as filehandle:\n",
    "    # store the data as binary data stream\n",
    "    pickle.dump(episodes_dict, filehandle)"
   ]
  },
  {
   "cell_type": "markdown",
   "id": "formal-supplier",
   "metadata": {},
   "source": [
    "Now let's concatenate all episodes in a single big DataFrame:"
   ]
  },
  {
   "cell_type": "code",
   "execution_count": 15,
   "id": "possible-thanks",
   "metadata": {},
   "outputs": [],
   "source": [
    "# Create a list of all dataframes to concatenate\n",
    "frames = []\n",
    "\n",
    "for k, v in episodes_dict.items():\n",
    "    frames.append(v)\n",
    "\n",
    "df_atla = pd.concat(frames)\n",
    "# Reseting indexes\n",
    "df_atla.index = range(len(df_atla))"
   ]
  },
  {
   "cell_type": "markdown",
   "id": "sustained-cleaners",
   "metadata": {},
   "source": [
    "How many \"lines\" does the whole series have:"
   ]
  },
  {
   "cell_type": "code",
   "execution_count": 16,
   "id": "stone-investigator",
   "metadata": {},
   "outputs": [
    {
     "data": {
      "text/plain": [
       "13369"
      ]
     },
     "execution_count": 16,
     "metadata": {},
     "output_type": "execute_result"
    }
   ],
   "source": [
    "len(df_atla)"
   ]
  },
  {
   "cell_type": "markdown",
   "id": "documentary-priest",
   "metadata": {},
   "source": [
    "Checking for the head of our dataframe:"
   ]
  },
  {
   "cell_type": "code",
   "execution_count": 17,
   "id": "located-humanitarian",
   "metadata": {},
   "outputs": [
    {
     "data": {
      "text/html": [
       "<div>\n",
       "<style scoped>\n",
       "    .dataframe tbody tr th:only-of-type {\n",
       "        vertical-align: middle;\n",
       "    }\n",
       "\n",
       "    .dataframe tbody tr th {\n",
       "        vertical-align: top;\n",
       "    }\n",
       "\n",
       "    .dataframe thead th {\n",
       "        text-align: right;\n",
       "    }\n",
       "</style>\n",
       "<table border=\"1\" class=\"dataframe\">\n",
       "  <thead>\n",
       "    <tr style=\"text-align: right;\">\n",
       "      <th></th>\n",
       "      <th>Character</th>\n",
       "      <th>script</th>\n",
       "      <th>ep_number</th>\n",
       "      <th>Book</th>\n",
       "    </tr>\n",
       "  </thead>\n",
       "  <tbody>\n",
       "    <tr>\n",
       "      <th>0</th>\n",
       "      <td>NaN</td>\n",
       "      <td>As the title card fades, the scene opens onto ...</td>\n",
       "      <td>1</td>\n",
       "      <td>1</td>\n",
       "    </tr>\n",
       "    <tr>\n",
       "      <th>1</th>\n",
       "      <td>Sokka</td>\n",
       "      <td>It's not getting away from me this time. [Clos...</td>\n",
       "      <td>1</td>\n",
       "      <td>1</td>\n",
       "    </tr>\n",
       "    <tr>\n",
       "      <th>2</th>\n",
       "      <td>NaN</td>\n",
       "      <td>The shot pans quickly from Sokka to Katara, wh...</td>\n",
       "      <td>1</td>\n",
       "      <td>1</td>\n",
       "    </tr>\n",
       "    <tr>\n",
       "      <th>3</th>\n",
       "      <td>Katara</td>\n",
       "      <td>[Happily surprised.] Sokka, look!</td>\n",
       "      <td>1</td>\n",
       "      <td>1</td>\n",
       "    </tr>\n",
       "    <tr>\n",
       "      <th>4</th>\n",
       "      <td>Sokka</td>\n",
       "      <td>[Close-up of Sokka; whispering.] Sshh! Katara,...</td>\n",
       "      <td>1</td>\n",
       "      <td>1</td>\n",
       "    </tr>\n",
       "  </tbody>\n",
       "</table>\n",
       "</div>"
      ],
      "text/plain": [
       "  Character                                             script  ep_number  \\\n",
       "0       NaN  As the title card fades, the scene opens onto ...          1   \n",
       "1     Sokka  It's not getting away from me this time. [Clos...          1   \n",
       "2       NaN  The shot pans quickly from Sokka to Katara, wh...          1   \n",
       "3    Katara                  [Happily surprised.] Sokka, look!          1   \n",
       "4     Sokka  [Close-up of Sokka; whispering.] Sshh! Katara,...          1   \n",
       "\n",
       "   Book  \n",
       "0     1  \n",
       "1     1  \n",
       "2     1  \n",
       "3     1  \n",
       "4     1  "
      ]
     },
     "execution_count": 17,
     "metadata": {},
     "output_type": "execute_result"
    }
   ],
   "source": [
    "df_atla.head()"
   ]
  },
  {
   "cell_type": "markdown",
   "id": "taken-framing",
   "metadata": {},
   "source": [
    "Checking for unique values of `ep_number` for sanity check (this should be all integers between 1 and 21):"
   ]
  },
  {
   "cell_type": "code",
   "execution_count": 18,
   "id": "mediterranean-cause",
   "metadata": {},
   "outputs": [
    {
     "data": {
      "text/plain": [
       "array([ 1,  2,  3,  4,  5,  6,  7,  8,  9, 10, 11, 12, 13, 14, 15, 16, 17,\n",
       "       18, 19, 20, 21])"
      ]
     },
     "execution_count": 18,
     "metadata": {},
     "output_type": "execute_result"
    }
   ],
   "source": [
    "df_atla['ep_number'].unique()"
   ]
  },
  {
   "cell_type": "markdown",
   "id": "307904d7",
   "metadata": {},
   "source": [
    "Let's create a column to store the episode number from 1 to 61:"
   ]
  },
  {
   "cell_type": "code",
   "execution_count": 19,
   "id": "facd0087",
   "metadata": {},
   "outputs": [],
   "source": [
    "# Function to count episodes from 1 to 61\n",
    "def episode_number(ep, book):\n",
    "    if book == 3:\n",
    "        return ep + 40\n",
    "    elif book == 2:\n",
    "        return ep + 20\n",
    "    else:\n",
    "        return ep"
   ]
  },
  {
   "cell_type": "code",
   "execution_count": 20,
   "id": "20ec9d4c",
   "metadata": {},
   "outputs": [],
   "source": [
    "df_atla['total_number'] = np.vectorize(episode_number)(df_atla['ep_number'],\n",
    "                                                       df_atla['Book'])"
   ]
  },
  {
   "cell_type": "code",
   "execution_count": 21,
   "id": "c6548699",
   "metadata": {},
   "outputs": [
    {
     "data": {
      "text/html": [
       "<div>\n",
       "<style scoped>\n",
       "    .dataframe tbody tr th:only-of-type {\n",
       "        vertical-align: middle;\n",
       "    }\n",
       "\n",
       "    .dataframe tbody tr th {\n",
       "        vertical-align: top;\n",
       "    }\n",
       "\n",
       "    .dataframe thead th {\n",
       "        text-align: right;\n",
       "    }\n",
       "</style>\n",
       "<table border=\"1\" class=\"dataframe\">\n",
       "  <thead>\n",
       "    <tr style=\"text-align: right;\">\n",
       "      <th></th>\n",
       "      <th>Character</th>\n",
       "      <th>script</th>\n",
       "      <th>ep_number</th>\n",
       "      <th>Book</th>\n",
       "      <th>total_number</th>\n",
       "    </tr>\n",
       "  </thead>\n",
       "  <tbody>\n",
       "    <tr>\n",
       "      <th>0</th>\n",
       "      <td>NaN</td>\n",
       "      <td>As the title card fades, the scene opens onto ...</td>\n",
       "      <td>1</td>\n",
       "      <td>1</td>\n",
       "      <td>1</td>\n",
       "    </tr>\n",
       "    <tr>\n",
       "      <th>1</th>\n",
       "      <td>Sokka</td>\n",
       "      <td>It's not getting away from me this time. [Clos...</td>\n",
       "      <td>1</td>\n",
       "      <td>1</td>\n",
       "      <td>1</td>\n",
       "    </tr>\n",
       "    <tr>\n",
       "      <th>2</th>\n",
       "      <td>NaN</td>\n",
       "      <td>The shot pans quickly from Sokka to Katara, wh...</td>\n",
       "      <td>1</td>\n",
       "      <td>1</td>\n",
       "      <td>1</td>\n",
       "    </tr>\n",
       "    <tr>\n",
       "      <th>3</th>\n",
       "      <td>Katara</td>\n",
       "      <td>[Happily surprised.] Sokka, look!</td>\n",
       "      <td>1</td>\n",
       "      <td>1</td>\n",
       "      <td>1</td>\n",
       "    </tr>\n",
       "    <tr>\n",
       "      <th>4</th>\n",
       "      <td>Sokka</td>\n",
       "      <td>[Close-up of Sokka; whispering.] Sshh! Katara,...</td>\n",
       "      <td>1</td>\n",
       "      <td>1</td>\n",
       "      <td>1</td>\n",
       "    </tr>\n",
       "  </tbody>\n",
       "</table>\n",
       "</div>"
      ],
      "text/plain": [
       "  Character                                             script  ep_number  \\\n",
       "0       NaN  As the title card fades, the scene opens onto ...          1   \n",
       "1     Sokka  It's not getting away from me this time. [Clos...          1   \n",
       "2       NaN  The shot pans quickly from Sokka to Katara, wh...          1   \n",
       "3    Katara                  [Happily surprised.] Sokka, look!          1   \n",
       "4     Sokka  [Close-up of Sokka; whispering.] Sshh! Katara,...          1   \n",
       "\n",
       "   Book  total_number  \n",
       "0     1             1  \n",
       "1     1             1  \n",
       "2     1             1  \n",
       "3     1             1  \n",
       "4     1             1  "
      ]
     },
     "execution_count": 21,
     "metadata": {},
     "output_type": "execute_result"
    }
   ],
   "source": [
    "df_atla.head()"
   ]
  },
  {
   "cell_type": "markdown",
   "id": "distributed-business",
   "metadata": {},
   "source": [
    "Let's save our dataframe to a csv file for easy access later:"
   ]
  },
  {
   "cell_type": "code",
   "execution_count": 22,
   "id": "willing-teach",
   "metadata": {},
   "outputs": [],
   "source": [
    "df_atla.to_csv('./data/ATLA-episodes-scripts.csv', index=False)"
   ]
  },
  {
   "cell_type": "markdown",
   "id": "engaging-domestic",
   "metadata": {},
   "source": [
    "Also, let's use pickle to dump this full DataFrame to a file:"
   ]
  },
  {
   "cell_type": "code",
   "execution_count": 23,
   "id": "adjacent-government",
   "metadata": {},
   "outputs": [],
   "source": [
    "with open('./data/df_atla.data', 'wb') as filehandle:\n",
    "    # store the data as binary data stream\n",
    "    pickle.dump(df_atla, filehandle)"
   ]
  },
  {
   "cell_type": "markdown",
   "id": "stretch-matter",
   "metadata": {},
   "source": [
    "Testing if pickled object worked:"
   ]
  },
  {
   "cell_type": "code",
   "execution_count": 24,
   "id": "quick-tablet",
   "metadata": {},
   "outputs": [],
   "source": [
    "with open('./data/df_atla.data', 'rb') as filehandle:\n",
    "    test_df = pickle.load(filehandle)"
   ]
  },
  {
   "cell_type": "code",
   "execution_count": 25,
   "id": "assigned-quest",
   "metadata": {},
   "outputs": [
    {
     "data": {
      "text/html": [
       "<div>\n",
       "<style scoped>\n",
       "    .dataframe tbody tr th:only-of-type {\n",
       "        vertical-align: middle;\n",
       "    }\n",
       "\n",
       "    .dataframe tbody tr th {\n",
       "        vertical-align: top;\n",
       "    }\n",
       "\n",
       "    .dataframe thead th {\n",
       "        text-align: right;\n",
       "    }\n",
       "</style>\n",
       "<table border=\"1\" class=\"dataframe\">\n",
       "  <thead>\n",
       "    <tr style=\"text-align: right;\">\n",
       "      <th></th>\n",
       "      <th>Character</th>\n",
       "      <th>script</th>\n",
       "      <th>ep_number</th>\n",
       "      <th>Book</th>\n",
       "      <th>total_number</th>\n",
       "    </tr>\n",
       "  </thead>\n",
       "  <tbody>\n",
       "    <tr>\n",
       "      <th>0</th>\n",
       "      <td>NaN</td>\n",
       "      <td>As the title card fades, the scene opens onto ...</td>\n",
       "      <td>1</td>\n",
       "      <td>1</td>\n",
       "      <td>1</td>\n",
       "    </tr>\n",
       "    <tr>\n",
       "      <th>1</th>\n",
       "      <td>Sokka</td>\n",
       "      <td>It's not getting away from me this time. [Clos...</td>\n",
       "      <td>1</td>\n",
       "      <td>1</td>\n",
       "      <td>1</td>\n",
       "    </tr>\n",
       "    <tr>\n",
       "      <th>2</th>\n",
       "      <td>NaN</td>\n",
       "      <td>The shot pans quickly from Sokka to Katara, wh...</td>\n",
       "      <td>1</td>\n",
       "      <td>1</td>\n",
       "      <td>1</td>\n",
       "    </tr>\n",
       "    <tr>\n",
       "      <th>3</th>\n",
       "      <td>Katara</td>\n",
       "      <td>[Happily surprised.] Sokka, look!</td>\n",
       "      <td>1</td>\n",
       "      <td>1</td>\n",
       "      <td>1</td>\n",
       "    </tr>\n",
       "    <tr>\n",
       "      <th>4</th>\n",
       "      <td>Sokka</td>\n",
       "      <td>[Close-up of Sokka; whispering.] Sshh! Katara,...</td>\n",
       "      <td>1</td>\n",
       "      <td>1</td>\n",
       "      <td>1</td>\n",
       "    </tr>\n",
       "  </tbody>\n",
       "</table>\n",
       "</div>"
      ],
      "text/plain": [
       "  Character                                             script  ep_number  \\\n",
       "0       NaN  As the title card fades, the scene opens onto ...          1   \n",
       "1     Sokka  It's not getting away from me this time. [Clos...          1   \n",
       "2       NaN  The shot pans quickly from Sokka to Katara, wh...          1   \n",
       "3    Katara                  [Happily surprised.] Sokka, look!          1   \n",
       "4     Sokka  [Close-up of Sokka; whispering.] Sshh! Katara,...          1   \n",
       "\n",
       "   Book  total_number  \n",
       "0     1             1  \n",
       "1     1             1  \n",
       "2     1             1  \n",
       "3     1             1  \n",
       "4     1             1  "
      ]
     },
     "execution_count": 25,
     "metadata": {},
     "output_type": "execute_result"
    }
   ],
   "source": [
    "test_df.head()"
   ]
  },
  {
   "cell_type": "code",
   "execution_count": 26,
   "id": "leading-fancy",
   "metadata": {},
   "outputs": [
    {
     "data": {
      "text/html": [
       "<div>\n",
       "<style scoped>\n",
       "    .dataframe tbody tr th:only-of-type {\n",
       "        vertical-align: middle;\n",
       "    }\n",
       "\n",
       "    .dataframe tbody tr th {\n",
       "        vertical-align: top;\n",
       "    }\n",
       "\n",
       "    .dataframe thead th {\n",
       "        text-align: right;\n",
       "    }\n",
       "</style>\n",
       "<table border=\"1\" class=\"dataframe\">\n",
       "  <thead>\n",
       "    <tr style=\"text-align: right;\">\n",
       "      <th></th>\n",
       "      <th>Character</th>\n",
       "      <th>script</th>\n",
       "      <th>ep_number</th>\n",
       "      <th>Book</th>\n",
       "      <th>total_number</th>\n",
       "    </tr>\n",
       "  </thead>\n",
       "  <tbody>\n",
       "    <tr>\n",
       "      <th>13364</th>\n",
       "      <td>Suki</td>\n",
       "      <td>And why did you paint me firebending?</td>\n",
       "      <td>21</td>\n",
       "      <td>3</td>\n",
       "      <td>61</td>\n",
       "    </tr>\n",
       "    <tr>\n",
       "      <th>13365</th>\n",
       "      <td>Sokka</td>\n",
       "      <td>I thought it looked more exciting that way. [M...</td>\n",
       "      <td>21</td>\n",
       "      <td>3</td>\n",
       "      <td>61</td>\n",
       "    </tr>\n",
       "    <tr>\n",
       "      <th>13366</th>\n",
       "      <td>Iroh</td>\n",
       "      <td>[Points at painting.] Hey, my belly's not that...</td>\n",
       "      <td>21</td>\n",
       "      <td>3</td>\n",
       "      <td>61</td>\n",
       "    </tr>\n",
       "    <tr>\n",
       "      <th>13367</th>\n",
       "      <td>Toph</td>\n",
       "      <td>Well I think you all look perfect! [They laugh.]</td>\n",
       "      <td>21</td>\n",
       "      <td>3</td>\n",
       "      <td>61</td>\n",
       "    </tr>\n",
       "    <tr>\n",
       "      <th>13368</th>\n",
       "      <td>NaN</td>\n",
       "      <td>Aang walks past Appa, petting him briefly, bef...</td>\n",
       "      <td>21</td>\n",
       "      <td>3</td>\n",
       "      <td>61</td>\n",
       "    </tr>\n",
       "  </tbody>\n",
       "</table>\n",
       "</div>"
      ],
      "text/plain": [
       "      Character                                             script  ep_number  \\\n",
       "13364      Suki              And why did you paint me firebending?         21   \n",
       "13365     Sokka  I thought it looked more exciting that way. [M...         21   \n",
       "13366      Iroh  [Points at painting.] Hey, my belly's not that...         21   \n",
       "13367      Toph   Well I think you all look perfect! [They laugh.]         21   \n",
       "13368       NaN  Aang walks past Appa, petting him briefly, bef...         21   \n",
       "\n",
       "       Book  total_number  \n",
       "13364     3            61  \n",
       "13365     3            61  \n",
       "13366     3            61  \n",
       "13367     3            61  \n",
       "13368     3            61  "
      ]
     },
     "execution_count": 26,
     "metadata": {},
     "output_type": "execute_result"
    }
   ],
   "source": [
    "test_df.tail()"
   ]
  },
  {
   "cell_type": "markdown",
   "id": "satellite-rover",
   "metadata": {},
   "source": [
    "Now we can enjoy our super cool new data!"
   ]
  },
  {
   "cell_type": "markdown",
   "id": "8e069031",
   "metadata": {},
   "source": [
    "## Helper dataframe"
   ]
  },
  {
   "cell_type": "markdown",
   "id": "d2b82dcd",
   "metadata": {},
   "source": [
    "To better understand our data later on, we can create a dataframe with the names of episodes to use as a quick look up for exploring our results."
   ]
  },
  {
   "cell_type": "code",
   "execution_count": 27,
   "id": "320dff7c",
   "metadata": {},
   "outputs": [],
   "source": [
    "names_list = []\n",
    "\n",
    "for el in seasons[1:7]:\n",
    "    col = el.find_all('a')\n",
    "    for episode in col:\n",
    "        # Check if episode is not a commentary nor is it the online game called Escape from the Spirit World\n",
    "        if not any(x in episode.text for x in ['commentary', 'Escape']):\n",
    "            names_list.append(episode.text)\n",
    "ep_names = tuple(names_list)"
   ]
  },
  {
   "cell_type": "code",
   "execution_count": 28,
   "id": "a6514748",
   "metadata": {},
   "outputs": [
    {
     "data": {
      "text/plain": [
       "('The Boy in the Iceberg',\n",
       " 'The Avatar Returns',\n",
       " 'The Southern Air Temple',\n",
       " 'The Warriors of Kyoshi',\n",
       " 'The King of Omashu',\n",
       " 'Imprisoned',\n",
       " 'Winter Solstice, Part 1: The Spirit World',\n",
       " 'Winter Solstice, Part 2: Avatar Roku',\n",
       " 'The Waterbending Scroll',\n",
       " 'Jet',\n",
       " 'The Great Divide',\n",
       " 'The Storm',\n",
       " 'The Blue Spirit',\n",
       " 'The Fortuneteller',\n",
       " 'Bato of the Water Tribe',\n",
       " 'The Deserter',\n",
       " 'The Northern Air Temple',\n",
       " 'The Waterbending Master',\n",
       " 'The Siege of the North, Part 1',\n",
       " 'The Siege of the North, Part 2',\n",
       " 'The Avatar State',\n",
       " 'The Cave of Two Lovers',\n",
       " 'Return to Omashu',\n",
       " 'The Swamp',\n",
       " 'Avatar Day',\n",
       " 'The Blind Bandit',\n",
       " 'Zuko Alone',\n",
       " 'The Chase',\n",
       " 'Bitter Work',\n",
       " 'The Library',\n",
       " 'The Desert',\n",
       " \"The Serpent's Pass\",\n",
       " 'The Drill',\n",
       " 'City of Walls and Secrets',\n",
       " 'The Tales of Ba Sing Se',\n",
       " \"Appa's Lost Days\",\n",
       " 'Lake Laogai',\n",
       " 'The Earth King',\n",
       " 'The Guru',\n",
       " 'The Crossroads of Destiny',\n",
       " 'The Awakening',\n",
       " 'The Headband',\n",
       " 'The Painted Lady',\n",
       " \"Sokka's Master\",\n",
       " 'The Beach',\n",
       " 'The Avatar and the Fire Lord',\n",
       " 'The Runaway',\n",
       " 'The Puppetmaster',\n",
       " 'Nightmares and Daydreams',\n",
       " 'The Day of Black Sun, Part 1: The Invasion',\n",
       " 'The Day of Black Sun, Part 2: The Eclipse',\n",
       " 'The Western Air Temple',\n",
       " 'The Firebending Masters',\n",
       " 'The Boiling Rock, Part 1',\n",
       " 'The Boiling Rock, Part 2',\n",
       " 'The Southern Raiders',\n",
       " 'The Ember Island Players',\n",
       " \"Sozin's Comet, Part 1: The Phoenix King\",\n",
       " \"Sozin's Comet, Part 2: The Old Masters\",\n",
       " \"Sozin's Comet, Part 3: Into the Inferno\",\n",
       " \"Sozin's Comet, Part 4: Avatar Aang\")"
      ]
     },
     "execution_count": 28,
     "metadata": {},
     "output_type": "execute_result"
    }
   ],
   "source": [
    "ep_names"
   ]
  },
  {
   "cell_type": "code",
   "execution_count": 29,
   "id": "8cb49403",
   "metadata": {},
   "outputs": [
    {
     "data": {
      "text/plain": [
       "61"
      ]
     },
     "execution_count": 29,
     "metadata": {},
     "output_type": "execute_result"
    }
   ],
   "source": [
    "len(ep_names)"
   ]
  },
  {
   "cell_type": "code",
   "execution_count": 30,
   "id": "c0df90fa",
   "metadata": {},
   "outputs": [],
   "source": [
    "ep_names_df = pd.DataFrame(ep_names, columns=['Episode'])"
   ]
  },
  {
   "cell_type": "code",
   "execution_count": 31,
   "id": "f266600a",
   "metadata": {},
   "outputs": [],
   "source": [
    "ep_names_df['ep_number'] = ''\n",
    "ep_names_df['Book'] = ''"
   ]
  },
  {
   "cell_type": "code",
   "execution_count": 32,
   "id": "7bf3d19f",
   "metadata": {},
   "outputs": [
    {
     "data": {
      "text/html": [
       "<div>\n",
       "<style scoped>\n",
       "    .dataframe tbody tr th:only-of-type {\n",
       "        vertical-align: middle;\n",
       "    }\n",
       "\n",
       "    .dataframe tbody tr th {\n",
       "        vertical-align: top;\n",
       "    }\n",
       "\n",
       "    .dataframe thead th {\n",
       "        text-align: right;\n",
       "    }\n",
       "</style>\n",
       "<table border=\"1\" class=\"dataframe\">\n",
       "  <thead>\n",
       "    <tr style=\"text-align: right;\">\n",
       "      <th></th>\n",
       "      <th>Episode</th>\n",
       "      <th>ep_number</th>\n",
       "      <th>Book</th>\n",
       "    </tr>\n",
       "  </thead>\n",
       "  <tbody>\n",
       "    <tr>\n",
       "      <th>0</th>\n",
       "      <td>The Boy in the Iceberg</td>\n",
       "      <td></td>\n",
       "      <td></td>\n",
       "    </tr>\n",
       "    <tr>\n",
       "      <th>1</th>\n",
       "      <td>The Avatar Returns</td>\n",
       "      <td></td>\n",
       "      <td></td>\n",
       "    </tr>\n",
       "    <tr>\n",
       "      <th>2</th>\n",
       "      <td>The Southern Air Temple</td>\n",
       "      <td></td>\n",
       "      <td></td>\n",
       "    </tr>\n",
       "    <tr>\n",
       "      <th>3</th>\n",
       "      <td>The Warriors of Kyoshi</td>\n",
       "      <td></td>\n",
       "      <td></td>\n",
       "    </tr>\n",
       "    <tr>\n",
       "      <th>4</th>\n",
       "      <td>The King of Omashu</td>\n",
       "      <td></td>\n",
       "      <td></td>\n",
       "    </tr>\n",
       "    <tr>\n",
       "      <th>...</th>\n",
       "      <td>...</td>\n",
       "      <td>...</td>\n",
       "      <td>...</td>\n",
       "    </tr>\n",
       "    <tr>\n",
       "      <th>56</th>\n",
       "      <td>The Ember Island Players</td>\n",
       "      <td></td>\n",
       "      <td></td>\n",
       "    </tr>\n",
       "    <tr>\n",
       "      <th>57</th>\n",
       "      <td>Sozin's Comet, Part 1: The Phoenix King</td>\n",
       "      <td></td>\n",
       "      <td></td>\n",
       "    </tr>\n",
       "    <tr>\n",
       "      <th>58</th>\n",
       "      <td>Sozin's Comet, Part 2: The Old Masters</td>\n",
       "      <td></td>\n",
       "      <td></td>\n",
       "    </tr>\n",
       "    <tr>\n",
       "      <th>59</th>\n",
       "      <td>Sozin's Comet, Part 3: Into the Inferno</td>\n",
       "      <td></td>\n",
       "      <td></td>\n",
       "    </tr>\n",
       "    <tr>\n",
       "      <th>60</th>\n",
       "      <td>Sozin's Comet, Part 4: Avatar Aang</td>\n",
       "      <td></td>\n",
       "      <td></td>\n",
       "    </tr>\n",
       "  </tbody>\n",
       "</table>\n",
       "<p>61 rows × 3 columns</p>\n",
       "</div>"
      ],
      "text/plain": [
       "                                    Episode ep_number Book\n",
       "0                    The Boy in the Iceberg               \n",
       "1                        The Avatar Returns               \n",
       "2                   The Southern Air Temple               \n",
       "3                    The Warriors of Kyoshi               \n",
       "4                        The King of Omashu               \n",
       "..                                      ...       ...  ...\n",
       "56                 The Ember Island Players               \n",
       "57  Sozin's Comet, Part 1: The Phoenix King               \n",
       "58   Sozin's Comet, Part 2: The Old Masters               \n",
       "59  Sozin's Comet, Part 3: Into the Inferno               \n",
       "60       Sozin's Comet, Part 4: Avatar Aang               \n",
       "\n",
       "[61 rows x 3 columns]"
      ]
     },
     "execution_count": 32,
     "metadata": {},
     "output_type": "execute_result"
    }
   ],
   "source": [
    "ep_names_df"
   ]
  },
  {
   "cell_type": "code",
   "execution_count": 33,
   "id": "1356ecd8",
   "metadata": {},
   "outputs": [],
   "source": [
    "ep_count = 0\n",
    "for number in range(len(ep_names_df)):\n",
    "    # The first 20 episodes are from Book 1. Book 2 has 20 and Book 4, 21.\n",
    "    if number < 20:\n",
    "        ep_names_df.at[number, 'Book'] = 1\n",
    "        ep_count += 1\n",
    "        ep_names_df.at[number, 'ep_number'] = ep_count\n",
    "    elif number < 40:\n",
    "        ep_names_df.at[number, 'Book'] = 2\n",
    "        # Small trick to restart episode number counter when we change books\n",
    "        if ep_names_df.iloc[number -\n",
    "                            1]['Book'] != ep_names_df.iloc[number]['Book']:\n",
    "            ep_count = 0\n",
    "        ep_count += 1\n",
    "        ep_names_df.at[number, 'ep_number'] = ep_count\n",
    "    else:\n",
    "        ep_names_df.at[number, 'Book'] = 3\n",
    "        # Small trick to restart episode number counter when we change books\n",
    "        if ep_names_df.iloc[number -\n",
    "                            1]['Book'] != ep_names_df.iloc[number]['Book']:\n",
    "            ep_count = 0\n",
    "        ep_count += 1\n",
    "        ep_names_df.at[number, 'ep_number'] = ep_count"
   ]
  },
  {
   "cell_type": "code",
   "execution_count": 34,
   "id": "ede33e80",
   "metadata": {},
   "outputs": [
    {
     "data": {
      "text/html": [
       "<div>\n",
       "<style scoped>\n",
       "    .dataframe tbody tr th:only-of-type {\n",
       "        vertical-align: middle;\n",
       "    }\n",
       "\n",
       "    .dataframe tbody tr th {\n",
       "        vertical-align: top;\n",
       "    }\n",
       "\n",
       "    .dataframe thead th {\n",
       "        text-align: right;\n",
       "    }\n",
       "</style>\n",
       "<table border=\"1\" class=\"dataframe\">\n",
       "  <thead>\n",
       "    <tr style=\"text-align: right;\">\n",
       "      <th></th>\n",
       "      <th>Episode</th>\n",
       "      <th>ep_number</th>\n",
       "      <th>Book</th>\n",
       "    </tr>\n",
       "  </thead>\n",
       "  <tbody>\n",
       "    <tr>\n",
       "      <th>37</th>\n",
       "      <td>The Earth King</td>\n",
       "      <td>18</td>\n",
       "      <td>2</td>\n",
       "    </tr>\n",
       "    <tr>\n",
       "      <th>38</th>\n",
       "      <td>The Guru</td>\n",
       "      <td>19</td>\n",
       "      <td>2</td>\n",
       "    </tr>\n",
       "    <tr>\n",
       "      <th>39</th>\n",
       "      <td>The Crossroads of Destiny</td>\n",
       "      <td>20</td>\n",
       "      <td>2</td>\n",
       "    </tr>\n",
       "    <tr>\n",
       "      <th>40</th>\n",
       "      <td>The Awakening</td>\n",
       "      <td>1</td>\n",
       "      <td>3</td>\n",
       "    </tr>\n",
       "    <tr>\n",
       "      <th>41</th>\n",
       "      <td>The Headband</td>\n",
       "      <td>2</td>\n",
       "      <td>3</td>\n",
       "    </tr>\n",
       "    <tr>\n",
       "      <th>42</th>\n",
       "      <td>The Painted Lady</td>\n",
       "      <td>3</td>\n",
       "      <td>3</td>\n",
       "    </tr>\n",
       "    <tr>\n",
       "      <th>43</th>\n",
       "      <td>Sokka's Master</td>\n",
       "      <td>4</td>\n",
       "      <td>3</td>\n",
       "    </tr>\n",
       "    <tr>\n",
       "      <th>44</th>\n",
       "      <td>The Beach</td>\n",
       "      <td>5</td>\n",
       "      <td>3</td>\n",
       "    </tr>\n",
       "    <tr>\n",
       "      <th>45</th>\n",
       "      <td>The Avatar and the Fire Lord</td>\n",
       "      <td>6</td>\n",
       "      <td>3</td>\n",
       "    </tr>\n",
       "    <tr>\n",
       "      <th>46</th>\n",
       "      <td>The Runaway</td>\n",
       "      <td>7</td>\n",
       "      <td>3</td>\n",
       "    </tr>\n",
       "    <tr>\n",
       "      <th>47</th>\n",
       "      <td>The Puppetmaster</td>\n",
       "      <td>8</td>\n",
       "      <td>3</td>\n",
       "    </tr>\n",
       "    <tr>\n",
       "      <th>48</th>\n",
       "      <td>Nightmares and Daydreams</td>\n",
       "      <td>9</td>\n",
       "      <td>3</td>\n",
       "    </tr>\n",
       "    <tr>\n",
       "      <th>49</th>\n",
       "      <td>The Day of Black Sun, Part 1: The Invasion</td>\n",
       "      <td>10</td>\n",
       "      <td>3</td>\n",
       "    </tr>\n",
       "    <tr>\n",
       "      <th>50</th>\n",
       "      <td>The Day of Black Sun, Part 2: The Eclipse</td>\n",
       "      <td>11</td>\n",
       "      <td>3</td>\n",
       "    </tr>\n",
       "    <tr>\n",
       "      <th>51</th>\n",
       "      <td>The Western Air Temple</td>\n",
       "      <td>12</td>\n",
       "      <td>3</td>\n",
       "    </tr>\n",
       "    <tr>\n",
       "      <th>52</th>\n",
       "      <td>The Firebending Masters</td>\n",
       "      <td>13</td>\n",
       "      <td>3</td>\n",
       "    </tr>\n",
       "    <tr>\n",
       "      <th>53</th>\n",
       "      <td>The Boiling Rock, Part 1</td>\n",
       "      <td>14</td>\n",
       "      <td>3</td>\n",
       "    </tr>\n",
       "    <tr>\n",
       "      <th>54</th>\n",
       "      <td>The Boiling Rock, Part 2</td>\n",
       "      <td>15</td>\n",
       "      <td>3</td>\n",
       "    </tr>\n",
       "    <tr>\n",
       "      <th>55</th>\n",
       "      <td>The Southern Raiders</td>\n",
       "      <td>16</td>\n",
       "      <td>3</td>\n",
       "    </tr>\n",
       "    <tr>\n",
       "      <th>56</th>\n",
       "      <td>The Ember Island Players</td>\n",
       "      <td>17</td>\n",
       "      <td>3</td>\n",
       "    </tr>\n",
       "    <tr>\n",
       "      <th>57</th>\n",
       "      <td>Sozin's Comet, Part 1: The Phoenix King</td>\n",
       "      <td>18</td>\n",
       "      <td>3</td>\n",
       "    </tr>\n",
       "    <tr>\n",
       "      <th>58</th>\n",
       "      <td>Sozin's Comet, Part 2: The Old Masters</td>\n",
       "      <td>19</td>\n",
       "      <td>3</td>\n",
       "    </tr>\n",
       "    <tr>\n",
       "      <th>59</th>\n",
       "      <td>Sozin's Comet, Part 3: Into the Inferno</td>\n",
       "      <td>20</td>\n",
       "      <td>3</td>\n",
       "    </tr>\n",
       "    <tr>\n",
       "      <th>60</th>\n",
       "      <td>Sozin's Comet, Part 4: Avatar Aang</td>\n",
       "      <td>21</td>\n",
       "      <td>3</td>\n",
       "    </tr>\n",
       "  </tbody>\n",
       "</table>\n",
       "</div>"
      ],
      "text/plain": [
       "                                       Episode ep_number Book\n",
       "37                              The Earth King        18    2\n",
       "38                                    The Guru        19    2\n",
       "39                   The Crossroads of Destiny        20    2\n",
       "40                               The Awakening         1    3\n",
       "41                                The Headband         2    3\n",
       "42                            The Painted Lady         3    3\n",
       "43                              Sokka's Master         4    3\n",
       "44                                   The Beach         5    3\n",
       "45                The Avatar and the Fire Lord         6    3\n",
       "46                                 The Runaway         7    3\n",
       "47                            The Puppetmaster         8    3\n",
       "48                    Nightmares and Daydreams         9    3\n",
       "49  The Day of Black Sun, Part 1: The Invasion        10    3\n",
       "50   The Day of Black Sun, Part 2: The Eclipse        11    3\n",
       "51                      The Western Air Temple        12    3\n",
       "52                     The Firebending Masters        13    3\n",
       "53                    The Boiling Rock, Part 1        14    3\n",
       "54                    The Boiling Rock, Part 2        15    3\n",
       "55                        The Southern Raiders        16    3\n",
       "56                    The Ember Island Players        17    3\n",
       "57     Sozin's Comet, Part 1: The Phoenix King        18    3\n",
       "58      Sozin's Comet, Part 2: The Old Masters        19    3\n",
       "59     Sozin's Comet, Part 3: Into the Inferno        20    3\n",
       "60          Sozin's Comet, Part 4: Avatar Aang        21    3"
      ]
     },
     "execution_count": 34,
     "metadata": {},
     "output_type": "execute_result"
    }
   ],
   "source": [
    "ep_names_df.tail(24)"
   ]
  },
  {
   "cell_type": "markdown",
   "id": "42b73732",
   "metadata": {},
   "source": [
    "Great! Now we can easily look up the name of a given episode based on it's `ep_number` and `Book`. Let's dump this into a pickled object:"
   ]
  },
  {
   "cell_type": "code",
   "execution_count": 35,
   "id": "b29ca9e6",
   "metadata": {},
   "outputs": [],
   "source": [
    "with open('./data/ep_names.data', 'wb') as filehandle:\n",
    "    # store the data as binary data stream\n",
    "    pickle.dump(ep_names_df, filehandle)"
   ]
  },
  {
   "cell_type": "markdown",
   "id": "8adb6931",
   "metadata": {},
   "source": [
    "Checking if it worked:"
   ]
  },
  {
   "cell_type": "code",
   "execution_count": 36,
   "id": "1ebb0965",
   "metadata": {},
   "outputs": [],
   "source": [
    "with open('./data/ep_names.data', 'rb') as filehandle:\n",
    "    test_df = pickle.load(filehandle)"
   ]
  },
  {
   "cell_type": "code",
   "execution_count": 37,
   "id": "3acf2d43",
   "metadata": {},
   "outputs": [
    {
     "data": {
      "text/html": [
       "<div>\n",
       "<style scoped>\n",
       "    .dataframe tbody tr th:only-of-type {\n",
       "        vertical-align: middle;\n",
       "    }\n",
       "\n",
       "    .dataframe tbody tr th {\n",
       "        vertical-align: top;\n",
       "    }\n",
       "\n",
       "    .dataframe thead th {\n",
       "        text-align: right;\n",
       "    }\n",
       "</style>\n",
       "<table border=\"1\" class=\"dataframe\">\n",
       "  <thead>\n",
       "    <tr style=\"text-align: right;\">\n",
       "      <th></th>\n",
       "      <th>Episode</th>\n",
       "      <th>ep_number</th>\n",
       "      <th>Book</th>\n",
       "    </tr>\n",
       "  </thead>\n",
       "  <tbody>\n",
       "    <tr>\n",
       "      <th>0</th>\n",
       "      <td>The Boy in the Iceberg</td>\n",
       "      <td>1</td>\n",
       "      <td>1</td>\n",
       "    </tr>\n",
       "    <tr>\n",
       "      <th>1</th>\n",
       "      <td>The Avatar Returns</td>\n",
       "      <td>2</td>\n",
       "      <td>1</td>\n",
       "    </tr>\n",
       "    <tr>\n",
       "      <th>2</th>\n",
       "      <td>The Southern Air Temple</td>\n",
       "      <td>3</td>\n",
       "      <td>1</td>\n",
       "    </tr>\n",
       "    <tr>\n",
       "      <th>3</th>\n",
       "      <td>The Warriors of Kyoshi</td>\n",
       "      <td>4</td>\n",
       "      <td>1</td>\n",
       "    </tr>\n",
       "    <tr>\n",
       "      <th>4</th>\n",
       "      <td>The King of Omashu</td>\n",
       "      <td>5</td>\n",
       "      <td>1</td>\n",
       "    </tr>\n",
       "    <tr>\n",
       "      <th>...</th>\n",
       "      <td>...</td>\n",
       "      <td>...</td>\n",
       "      <td>...</td>\n",
       "    </tr>\n",
       "    <tr>\n",
       "      <th>56</th>\n",
       "      <td>The Ember Island Players</td>\n",
       "      <td>17</td>\n",
       "      <td>3</td>\n",
       "    </tr>\n",
       "    <tr>\n",
       "      <th>57</th>\n",
       "      <td>Sozin's Comet, Part 1: The Phoenix King</td>\n",
       "      <td>18</td>\n",
       "      <td>3</td>\n",
       "    </tr>\n",
       "    <tr>\n",
       "      <th>58</th>\n",
       "      <td>Sozin's Comet, Part 2: The Old Masters</td>\n",
       "      <td>19</td>\n",
       "      <td>3</td>\n",
       "    </tr>\n",
       "    <tr>\n",
       "      <th>59</th>\n",
       "      <td>Sozin's Comet, Part 3: Into the Inferno</td>\n",
       "      <td>20</td>\n",
       "      <td>3</td>\n",
       "    </tr>\n",
       "    <tr>\n",
       "      <th>60</th>\n",
       "      <td>Sozin's Comet, Part 4: Avatar Aang</td>\n",
       "      <td>21</td>\n",
       "      <td>3</td>\n",
       "    </tr>\n",
       "  </tbody>\n",
       "</table>\n",
       "<p>61 rows × 3 columns</p>\n",
       "</div>"
      ],
      "text/plain": [
       "                                    Episode ep_number Book\n",
       "0                    The Boy in the Iceberg         1    1\n",
       "1                        The Avatar Returns         2    1\n",
       "2                   The Southern Air Temple         3    1\n",
       "3                    The Warriors of Kyoshi         4    1\n",
       "4                        The King of Omashu         5    1\n",
       "..                                      ...       ...  ...\n",
       "56                 The Ember Island Players        17    3\n",
       "57  Sozin's Comet, Part 1: The Phoenix King        18    3\n",
       "58   Sozin's Comet, Part 2: The Old Masters        19    3\n",
       "59  Sozin's Comet, Part 3: Into the Inferno        20    3\n",
       "60       Sozin's Comet, Part 4: Avatar Aang        21    3\n",
       "\n",
       "[61 rows x 3 columns]"
      ]
     },
     "execution_count": 37,
     "metadata": {},
     "output_type": "execute_result"
    }
   ],
   "source": [
    "test_df"
   ]
  },
  {
   "cell_type": "markdown",
   "id": "2b6c8d13",
   "metadata": {},
   "source": [
    "# Getting lines from *The Legend of Korra*\n",
    "\n",
    "We can a very similar procedure to get episodes from *The Legend of Korra*. For this, we pick the tables from 7 to 15 in our `seasons` object:"
   ]
  },
  {
   "cell_type": "code",
   "execution_count": 7,
   "id": "2e9045fb",
   "metadata": {},
   "outputs": [
    {
     "name": "stdout",
     "output_type": "stream",
     "text": [
      "https://avatar.fandom.com/wiki/Transcript:Welcome_to_Republic_City\n",
      "https://avatar.fandom.com/wiki/Transcript:Welcome_to_Republic_City_(commentary)\n",
      "https://avatar.fandom.com/wiki/Transcript:A_Leaf_in_the_Wind\n",
      "https://avatar.fandom.com/wiki/Transcript:A_Leaf_in_the_Wind_(commentary)\n",
      "https://avatar.fandom.com/wiki/Transcript:The_Revelation_(episode)\n",
      "https://avatar.fandom.com/wiki/Transcript:The_Voice_in_the_Night\n",
      "https://avatar.fandom.com/wiki/Transcript:The_Spirit_of_Competition\n",
      "https://avatar.fandom.com/wiki/Transcript:And_the_Winner_Is...\n",
      "https://avatar.fandom.com/wiki/Transcript:The_Aftermath\n",
      "https://avatar.fandom.com/wiki/Transcript:When_Extremes_Meet\n",
      "https://avatar.fandom.com/wiki/Transcript:When_Extremes_Meet_(commentary)\n",
      "https://avatar.fandom.com/wiki/Transcript:Out_of_the_Past\n",
      "https://avatar.fandom.com/wiki/Transcript:Turning_the_Tides\n",
      "https://avatar.fandom.com/wiki/Transcript:Skeletons_in_the_Closet\n",
      "https://avatar.fandom.com/wiki/Transcript:Skeletons_in_the_Closet_(commentary)\n",
      "https://avatar.fandom.com/wiki/Transcript:Endgame\n",
      "https://avatar.fandom.com/wiki/Transcript:Rebel_Spirit\n",
      "https://avatar.fandom.com/wiki/Transcript:The_Southern_Lights\n",
      "https://avatar.fandom.com/wiki/Transcript:Civil_Wars,_Part_1\n",
      "https://avatar.fandom.com/wiki/Transcript:Civil_Wars,_Part_2\n",
      "https://avatar.fandom.com/wiki/Transcript:Peacekeepers\n",
      "https://avatar.fandom.com/wiki/Transcript:The_Sting\n",
      "https://avatar.fandom.com/wiki/Transcript:Beginnings,_Part_1\n",
      "https://avatar.fandom.com/wiki/Transcript:Beginnings,_Part_2\n",
      "https://avatar.fandom.com/wiki/Transcript:The_Guide\n",
      "https://avatar.fandom.com/wiki/Transcript:A_New_Spiritual_Age\n",
      "https://avatar.fandom.com/wiki/Transcript:Night_of_a_Thousand_Stars\n",
      "https://avatar.fandom.com/wiki/Transcript:Harmonic_Convergence_(episode)\n",
      "https://avatar.fandom.com/wiki/Transcript:Darkness_Falls\n",
      "https://avatar.fandom.com/wiki/Transcript:Light_in_the_Dark\n",
      "https://avatar.fandom.com/wiki/Transcript:A_Breath_of_Fresh_Air\n",
      "https://avatar.fandom.com/wiki/Transcript:Rebirth\n",
      "https://avatar.fandom.com/wiki/Transcript:The_Earth_Queen\n",
      "https://avatar.fandom.com/wiki/Transcript:In_Harm%27s_Way\n",
      "https://avatar.fandom.com/wiki/Transcript:The_Metal_Clan\n",
      "https://avatar.fandom.com/wiki/Transcript:Old_Wounds\n",
      "https://avatar.fandom.com/wiki/Transcript:Original_Airbenders\n",
      "https://avatar.fandom.com/wiki/Transcript:The_Terror_Within\n",
      "https://avatar.fandom.com/wiki/Transcript:The_Stakeout\n",
      "https://avatar.fandom.com/wiki/Transcript:Long_Live_the_Queen\n",
      "https://avatar.fandom.com/wiki/Transcript:The_Ultimatum\n",
      "https://avatar.fandom.com/wiki/Transcript:Enter_the_Void\n",
      "https://avatar.fandom.com/wiki/Transcript:Venom_of_the_Red_Lotus\n",
      "https://avatar.fandom.com/wiki/Transcript:After_All_These_Years\n",
      "https://avatar.fandom.com/wiki/Transcript:Korra_Alone\n",
      "https://avatar.fandom.com/wiki/Transcript:The_Coronation\n",
      "https://avatar.fandom.com/wiki/Transcript:The_Calling\n",
      "https://avatar.fandom.com/wiki/Transcript:Enemy_at_the_Gates\n",
      "https://avatar.fandom.com/wiki/Transcript:The_Battle_of_Zaofu\n",
      "https://avatar.fandom.com/wiki/Transcript:Reunion\n",
      "https://avatar.fandom.com/wiki/Transcript:Remembrances\n",
      "https://avatar.fandom.com/wiki/Transcript:Beyond_the_Wilds\n",
      "https://avatar.fandom.com/wiki/Transcript:Operation_Beifong\n",
      "https://avatar.fandom.com/wiki/Transcript:Kuvira%27s_Gambit\n",
      "https://avatar.fandom.com/wiki/Transcript:Day_of_the_Colossus\n",
      "https://avatar.fandom.com/wiki/Transcript:The_Last_Stand\n"
     ]
    }
   ],
   "source": [
    "for el in seasons[7:15]:\n",
    "    col = el.find_all('a')\n",
    "    for episode in col:\n",
    "        print('https://avatar.fandom.com' + episode['href'])"
   ]
  },
  {
   "cell_type": "markdown",
   "id": "b8578958",
   "metadata": {},
   "source": [
    "Getting rid of commentary episodes:"
   ]
  },
  {
   "cell_type": "code",
   "execution_count": 8,
   "id": "bcb1a365",
   "metadata": {},
   "outputs": [],
   "source": [
    "korra_links_list = []\n",
    "\n",
    "for el in seasons[7:15]:\n",
    "    col = el.find_all('a')\n",
    "    for episode in col:\n",
    "        # Check if episode is not a commentary nor is it the online game called Escape from the Spirit World\n",
    "        if not any(x in episode['href'] for x in ['commentary']):\n",
    "            korra_links_list.append('https://avatar.fandom.com' + episode['href'])\n",
    "korra_links = tuple(korra_links_list)"
   ]
  },
  {
   "cell_type": "code",
   "execution_count": 9,
   "id": "4e1683ed",
   "metadata": {},
   "outputs": [
    {
     "data": {
      "text/plain": [
       "('https://avatar.fandom.com/wiki/Transcript:Welcome_to_Republic_City',\n",
       " 'https://avatar.fandom.com/wiki/Transcript:A_Leaf_in_the_Wind',\n",
       " 'https://avatar.fandom.com/wiki/Transcript:The_Revelation_(episode)',\n",
       " 'https://avatar.fandom.com/wiki/Transcript:The_Voice_in_the_Night',\n",
       " 'https://avatar.fandom.com/wiki/Transcript:The_Spirit_of_Competition',\n",
       " 'https://avatar.fandom.com/wiki/Transcript:And_the_Winner_Is...',\n",
       " 'https://avatar.fandom.com/wiki/Transcript:The_Aftermath',\n",
       " 'https://avatar.fandom.com/wiki/Transcript:When_Extremes_Meet',\n",
       " 'https://avatar.fandom.com/wiki/Transcript:Out_of_the_Past',\n",
       " 'https://avatar.fandom.com/wiki/Transcript:Turning_the_Tides',\n",
       " 'https://avatar.fandom.com/wiki/Transcript:Skeletons_in_the_Closet',\n",
       " 'https://avatar.fandom.com/wiki/Transcript:Endgame',\n",
       " 'https://avatar.fandom.com/wiki/Transcript:Rebel_Spirit',\n",
       " 'https://avatar.fandom.com/wiki/Transcript:The_Southern_Lights',\n",
       " 'https://avatar.fandom.com/wiki/Transcript:Civil_Wars,_Part_1',\n",
       " 'https://avatar.fandom.com/wiki/Transcript:Civil_Wars,_Part_2',\n",
       " 'https://avatar.fandom.com/wiki/Transcript:Peacekeepers',\n",
       " 'https://avatar.fandom.com/wiki/Transcript:The_Sting',\n",
       " 'https://avatar.fandom.com/wiki/Transcript:Beginnings,_Part_1',\n",
       " 'https://avatar.fandom.com/wiki/Transcript:Beginnings,_Part_2',\n",
       " 'https://avatar.fandom.com/wiki/Transcript:The_Guide',\n",
       " 'https://avatar.fandom.com/wiki/Transcript:A_New_Spiritual_Age',\n",
       " 'https://avatar.fandom.com/wiki/Transcript:Night_of_a_Thousand_Stars',\n",
       " 'https://avatar.fandom.com/wiki/Transcript:Harmonic_Convergence_(episode)',\n",
       " 'https://avatar.fandom.com/wiki/Transcript:Darkness_Falls',\n",
       " 'https://avatar.fandom.com/wiki/Transcript:Light_in_the_Dark',\n",
       " 'https://avatar.fandom.com/wiki/Transcript:A_Breath_of_Fresh_Air',\n",
       " 'https://avatar.fandom.com/wiki/Transcript:Rebirth',\n",
       " 'https://avatar.fandom.com/wiki/Transcript:The_Earth_Queen',\n",
       " 'https://avatar.fandom.com/wiki/Transcript:In_Harm%27s_Way',\n",
       " 'https://avatar.fandom.com/wiki/Transcript:The_Metal_Clan',\n",
       " 'https://avatar.fandom.com/wiki/Transcript:Old_Wounds',\n",
       " 'https://avatar.fandom.com/wiki/Transcript:Original_Airbenders',\n",
       " 'https://avatar.fandom.com/wiki/Transcript:The_Terror_Within',\n",
       " 'https://avatar.fandom.com/wiki/Transcript:The_Stakeout',\n",
       " 'https://avatar.fandom.com/wiki/Transcript:Long_Live_the_Queen',\n",
       " 'https://avatar.fandom.com/wiki/Transcript:The_Ultimatum',\n",
       " 'https://avatar.fandom.com/wiki/Transcript:Enter_the_Void',\n",
       " 'https://avatar.fandom.com/wiki/Transcript:Venom_of_the_Red_Lotus',\n",
       " 'https://avatar.fandom.com/wiki/Transcript:After_All_These_Years',\n",
       " 'https://avatar.fandom.com/wiki/Transcript:Korra_Alone',\n",
       " 'https://avatar.fandom.com/wiki/Transcript:The_Coronation',\n",
       " 'https://avatar.fandom.com/wiki/Transcript:The_Calling',\n",
       " 'https://avatar.fandom.com/wiki/Transcript:Enemy_at_the_Gates',\n",
       " 'https://avatar.fandom.com/wiki/Transcript:The_Battle_of_Zaofu',\n",
       " 'https://avatar.fandom.com/wiki/Transcript:Reunion',\n",
       " 'https://avatar.fandom.com/wiki/Transcript:Remembrances',\n",
       " 'https://avatar.fandom.com/wiki/Transcript:Beyond_the_Wilds',\n",
       " 'https://avatar.fandom.com/wiki/Transcript:Operation_Beifong',\n",
       " 'https://avatar.fandom.com/wiki/Transcript:Kuvira%27s_Gambit',\n",
       " 'https://avatar.fandom.com/wiki/Transcript:Day_of_the_Colossus',\n",
       " 'https://avatar.fandom.com/wiki/Transcript:The_Last_Stand')"
      ]
     },
     "execution_count": 9,
     "metadata": {},
     "output_type": "execute_result"
    }
   ],
   "source": [
    "korra_links"
   ]
  },
  {
   "cell_type": "code",
   "execution_count": 11,
   "id": "9f1409c8",
   "metadata": {},
   "outputs": [
    {
     "name": "stdout",
     "output_type": "stream",
     "text": [
      "Number of episodes in TLOK: 52\n"
     ]
    }
   ],
   "source": [
    "print(f'Number of episodes in TLOK: {len(korra_links)}')"
   ]
  },
  {
   "cell_type": "code",
   "execution_count": 38,
   "id": "102a9ba6",
   "metadata": {},
   "outputs": [],
   "source": [
    "# # Checking number of html tables in each episode\n",
    "# for number, link in enumerate(korra_links):\n",
    "#     print(number, len(pd.read_html(link)))"
   ]
  },
  {
   "cell_type": "code",
   "execution_count": 13,
   "id": "598b7fcb",
   "metadata": {},
   "outputs": [
    {
     "name": "stdout",
     "output_type": "stream",
     "text": [
      "Getting episode number 0\n",
      "Getting episode number 1\n",
      "Getting episode number 2\n",
      "Getting episode number 3\n",
      "Getting episode number 4\n",
      "Getting episode number 5\n",
      "Getting episode number 6\n",
      "Getting episode number 7\n",
      "Getting episode number 8\n",
      "Getting episode number 9\n",
      "Getting episode number 10\n",
      "Getting episode number 11\n",
      "Getting episode number 12\n",
      "Getting episode number 13\n",
      "Getting episode number 14\n",
      "Getting episode number 15\n",
      "Getting episode number 16\n",
      "Getting episode number 17\n",
      "Getting episode number 18\n",
      "Getting episode number 19\n",
      "Getting episode number 20\n",
      "Getting episode number 21\n",
      "Getting episode number 22\n",
      "Getting episode number 23\n",
      "Getting episode number 24\n",
      "Getting episode number 25\n",
      "Getting episode number 26\n",
      "Getting episode number 27\n",
      "Getting episode number 28\n",
      "Getting episode number 29\n",
      "Getting episode number 30\n",
      "Getting episode number 31\n",
      "Getting episode number 32\n",
      "Getting episode number 33\n",
      "Getting episode number 34\n",
      "Getting episode number 35\n",
      "Getting episode number 36\n",
      "Getting episode number 37\n",
      "Getting episode number 38\n",
      "Getting episode number 39\n",
      "Getting episode number 40\n",
      "Getting episode number 41\n",
      "Getting episode number 42\n",
      "Getting episode number 43\n",
      "Getting episode number 44\n",
      "Getting episode number 45\n",
      "Getting episode number 46\n",
      "Getting episode number 47\n",
      "Getting episode number 48\n",
      "Getting episode number 49\n",
      "Getting episode number 50\n",
      "Getting episode number 51\n"
     ]
    }
   ],
   "source": [
    "episodes_dict = {}\n",
    "ep_count = 0\n",
    "# Big loop through all the links:\n",
    "for number, link in enumerate(korra_links):\n",
    "    print('Getting episode number', number)\n",
    "\n",
    "    # Episodes containing a first table with opening\n",
    "    episodes_dict[str(number)] = pd.read_html(link)[1]\n",
    "\n",
    "    # Renaming columns for clarity\n",
    "    episodes_dict[str(number)].columns = ['Character', 'script']\n",
    "    # Initializing empty column for the episode number (within a given Book)\n",
    "    episodes_dict[str(number)]['ep_number'] = ''\n",
    "\n",
    "    # The first 12 episodes are from Book 1. Book 2 has 14, Book 3 has 13 and Book 4, 13.\n",
    "    if number < 12:\n",
    "        episodes_dict[str(number)]['Book'] = 1\n",
    "        ep_count += 1\n",
    "        episodes_dict[str(number)]['ep_number'] = ep_count\n",
    "    elif number < 26:\n",
    "        episodes_dict[str(number)]['Book'] = 2\n",
    "        # Small trick to restart episode number counter when we change books\n",
    "        if episodes_dict[str(number - 1)].iloc[0]['Book'] != episodes_dict[str(\n",
    "                number)].iloc[0]['Book']:\n",
    "            ep_count = 0\n",
    "        ep_count += 1\n",
    "        episodes_dict[str(number)]['ep_number'] = ep_count\n",
    "    elif number < 39:\n",
    "        episodes_dict[str(number)]['Book'] = 3\n",
    "        # Small trick to restart episode number counter when we change books\n",
    "        if episodes_dict[str(number - 1)].iloc[0]['Book'] != episodes_dict[str(\n",
    "                number)].iloc[0]['Book']:\n",
    "            ep_count = 0\n",
    "        ep_count += 1\n",
    "        episodes_dict[str(number)]['ep_number'] = ep_count\n",
    "    else:\n",
    "        episodes_dict[str(number)]['Book'] = 4\n",
    "        # Small trick to restart episode number counter when we change books\n",
    "        if episodes_dict[str(number - 1)].iloc[0]['Book'] != episodes_dict[str(\n",
    "                number)].iloc[0]['Book']:\n",
    "            ep_count = 0\n",
    "        ep_count += 1\n",
    "        episodes_dict[str(number)]['ep_number'] = ep_count"
   ]
  },
  {
   "cell_type": "code",
   "execution_count": 14,
   "id": "b9ce4c99",
   "metadata": {},
   "outputs": [
    {
     "data": {
      "text/plain": [
       "52"
      ]
     },
     "execution_count": 14,
     "metadata": {},
     "output_type": "execute_result"
    }
   ],
   "source": [
    "len(episodes_dict)"
   ]
  },
  {
   "cell_type": "markdown",
   "id": "381c75ba",
   "metadata": {},
   "source": [
    "Dumping this for use later:"
   ]
  },
  {
   "cell_type": "code",
   "execution_count": 15,
   "id": "a06b6979",
   "metadata": {},
   "outputs": [],
   "source": [
    "with open('./data/korra_episodes_dict.data', 'wb') as filehandle:\n",
    "    # store the data as binary data stream\n",
    "    pickle.dump(episodes_dict, filehandle)"
   ]
  },
  {
   "cell_type": "code",
   "execution_count": 16,
   "id": "1a5948b6",
   "metadata": {},
   "outputs": [],
   "source": [
    "# Create a list of all dataframes to concatenate\n",
    "frames = []\n",
    "\n",
    "for k, v in episodes_dict.items():\n",
    "    frames.append(v)\n",
    "\n",
    "df_atlk = pd.concat(frames)\n",
    "# Reseting indexes\n",
    "df_atlk.index = range(len(df_atlk))"
   ]
  },
  {
   "cell_type": "code",
   "execution_count": 17,
   "id": "9f3e40b9",
   "metadata": {},
   "outputs": [
    {
     "data": {
      "text/plain": [
       "9695"
      ]
     },
     "execution_count": 17,
     "metadata": {},
     "output_type": "execute_result"
    }
   ],
   "source": [
    "len(df_atlk)"
   ]
  },
  {
   "cell_type": "code",
   "execution_count": 18,
   "id": "d777f9c1",
   "metadata": {},
   "outputs": [
    {
     "data": {
      "text/html": [
       "<div>\n",
       "<style scoped>\n",
       "    .dataframe tbody tr th:only-of-type {\n",
       "        vertical-align: middle;\n",
       "    }\n",
       "\n",
       "    .dataframe tbody tr th {\n",
       "        vertical-align: top;\n",
       "    }\n",
       "\n",
       "    .dataframe thead th {\n",
       "        text-align: right;\n",
       "    }\n",
       "</style>\n",
       "<table border=\"1\" class=\"dataframe\">\n",
       "  <thead>\n",
       "    <tr style=\"text-align: right;\">\n",
       "      <th></th>\n",
       "      <th>Character</th>\n",
       "      <th>script</th>\n",
       "      <th>ep_number</th>\n",
       "      <th>Book</th>\n",
       "    </tr>\n",
       "  </thead>\n",
       "  <tbody>\n",
       "    <tr>\n",
       "      <th>0</th>\n",
       "      <td>NaN</td>\n",
       "      <td>The episode opens to footage of the sky while ...</td>\n",
       "      <td>1</td>\n",
       "      <td>1</td>\n",
       "    </tr>\n",
       "    <tr>\n",
       "      <th>1</th>\n",
       "      <td>Tonraq</td>\n",
       "      <td>The White Lotus has honored my family by comin...</td>\n",
       "      <td>1</td>\n",
       "      <td>1</td>\n",
       "    </tr>\n",
       "    <tr>\n",
       "      <th>2</th>\n",
       "      <td>NaN</td>\n",
       "      <td>The man pushes open the door to grant the thre...</td>\n",
       "      <td>1</td>\n",
       "      <td>1</td>\n",
       "    </tr>\n",
       "    <tr>\n",
       "      <th>3</th>\n",
       "      <td>Senna</td>\n",
       "      <td>[Briefly bowing her head, and tugging her righ...</td>\n",
       "      <td>1</td>\n",
       "      <td>1</td>\n",
       "    </tr>\n",
       "    <tr>\n",
       "      <th>4</th>\n",
       "      <td>NaN</td>\n",
       "      <td>A shield hanging on the wall falls down and ro...</td>\n",
       "      <td>1</td>\n",
       "      <td>1</td>\n",
       "    </tr>\n",
       "  </tbody>\n",
       "</table>\n",
       "</div>"
      ],
      "text/plain": [
       "  Character                                             script  ep_number  \\\n",
       "0       NaN  The episode opens to footage of the sky while ...          1   \n",
       "1    Tonraq  The White Lotus has honored my family by comin...          1   \n",
       "2       NaN  The man pushes open the door to grant the thre...          1   \n",
       "3     Senna  [Briefly bowing her head, and tugging her righ...          1   \n",
       "4       NaN  A shield hanging on the wall falls down and ro...          1   \n",
       "\n",
       "   Book  \n",
       "0     1  \n",
       "1     1  \n",
       "2     1  \n",
       "3     1  \n",
       "4     1  "
      ]
     },
     "execution_count": 18,
     "metadata": {},
     "output_type": "execute_result"
    }
   ],
   "source": [
    "df_atlk.head()"
   ]
  },
  {
   "cell_type": "code",
   "execution_count": 19,
   "id": "9c91dda8",
   "metadata": {},
   "outputs": [
    {
     "data": {
      "text/plain": [
       "array([ 1,  2,  3,  4,  5,  6,  7,  8,  9, 10, 11, 12, 13, 14])"
      ]
     },
     "execution_count": 19,
     "metadata": {},
     "output_type": "execute_result"
    }
   ],
   "source": [
    "df_atlk['ep_number'].unique()"
   ]
  },
  {
   "cell_type": "code",
   "execution_count": 20,
   "id": "0175acb9",
   "metadata": {},
   "outputs": [],
   "source": [
    "# Function to count episodes from 1 to 52\n",
    "def korra_episode_number(ep, book):\n",
    "    if book == 4:\n",
    "        return ep + 39\n",
    "    elif book == 3:\n",
    "        return ep + 26\n",
    "    elif book == 2:\n",
    "        return ep + 12\n",
    "    else:\n",
    "        return ep"
   ]
  },
  {
   "cell_type": "code",
   "execution_count": 21,
   "id": "bb178fa7",
   "metadata": {},
   "outputs": [],
   "source": [
    "df_atlk['total_number'] = np.vectorize(korra_episode_number)(df_atlk['ep_number'],\n",
    "                                                       df_atlk['Book'])"
   ]
  },
  {
   "cell_type": "code",
   "execution_count": 24,
   "id": "161154ba",
   "metadata": {},
   "outputs": [
    {
     "data": {
      "text/html": [
       "<div>\n",
       "<style scoped>\n",
       "    .dataframe tbody tr th:only-of-type {\n",
       "        vertical-align: middle;\n",
       "    }\n",
       "\n",
       "    .dataframe tbody tr th {\n",
       "        vertical-align: top;\n",
       "    }\n",
       "\n",
       "    .dataframe thead th {\n",
       "        text-align: right;\n",
       "    }\n",
       "</style>\n",
       "<table border=\"1\" class=\"dataframe\">\n",
       "  <thead>\n",
       "    <tr style=\"text-align: right;\">\n",
       "      <th></th>\n",
       "      <th>Character</th>\n",
       "      <th>script</th>\n",
       "      <th>ep_number</th>\n",
       "      <th>Book</th>\n",
       "      <th>total_number</th>\n",
       "    </tr>\n",
       "  </thead>\n",
       "  <tbody>\n",
       "    <tr>\n",
       "      <th>0</th>\n",
       "      <td>NaN</td>\n",
       "      <td>The episode opens to footage of the sky while ...</td>\n",
       "      <td>1</td>\n",
       "      <td>1</td>\n",
       "      <td>1</td>\n",
       "    </tr>\n",
       "    <tr>\n",
       "      <th>1</th>\n",
       "      <td>Tonraq</td>\n",
       "      <td>The White Lotus has honored my family by comin...</td>\n",
       "      <td>1</td>\n",
       "      <td>1</td>\n",
       "      <td>1</td>\n",
       "    </tr>\n",
       "    <tr>\n",
       "      <th>2</th>\n",
       "      <td>NaN</td>\n",
       "      <td>The man pushes open the door to grant the thre...</td>\n",
       "      <td>1</td>\n",
       "      <td>1</td>\n",
       "      <td>1</td>\n",
       "    </tr>\n",
       "    <tr>\n",
       "      <th>3</th>\n",
       "      <td>Senna</td>\n",
       "      <td>[Briefly bowing her head, and tugging her righ...</td>\n",
       "      <td>1</td>\n",
       "      <td>1</td>\n",
       "      <td>1</td>\n",
       "    </tr>\n",
       "    <tr>\n",
       "      <th>4</th>\n",
       "      <td>NaN</td>\n",
       "      <td>A shield hanging on the wall falls down and ro...</td>\n",
       "      <td>1</td>\n",
       "      <td>1</td>\n",
       "      <td>1</td>\n",
       "    </tr>\n",
       "  </tbody>\n",
       "</table>\n",
       "</div>"
      ],
      "text/plain": [
       "  Character                                             script  ep_number  \\\n",
       "0       NaN  The episode opens to footage of the sky while ...          1   \n",
       "1    Tonraq  The White Lotus has honored my family by comin...          1   \n",
       "2       NaN  The man pushes open the door to grant the thre...          1   \n",
       "3     Senna  [Briefly bowing her head, and tugging her righ...          1   \n",
       "4       NaN  A shield hanging on the wall falls down and ro...          1   \n",
       "\n",
       "   Book  total_number  \n",
       "0     1             1  \n",
       "1     1             1  \n",
       "2     1             1  \n",
       "3     1             1  \n",
       "4     1             1  "
      ]
     },
     "execution_count": 24,
     "metadata": {},
     "output_type": "execute_result"
    }
   ],
   "source": [
    "df_atlk.head()"
   ]
  },
  {
   "cell_type": "code",
   "execution_count": 25,
   "id": "56a36f9a",
   "metadata": {},
   "outputs": [
    {
     "data": {
      "text/html": [
       "<div>\n",
       "<style scoped>\n",
       "    .dataframe tbody tr th:only-of-type {\n",
       "        vertical-align: middle;\n",
       "    }\n",
       "\n",
       "    .dataframe tbody tr th {\n",
       "        vertical-align: top;\n",
       "    }\n",
       "\n",
       "    .dataframe thead th {\n",
       "        text-align: right;\n",
       "    }\n",
       "</style>\n",
       "<table border=\"1\" class=\"dataframe\">\n",
       "  <thead>\n",
       "    <tr style=\"text-align: right;\">\n",
       "      <th></th>\n",
       "      <th>Character</th>\n",
       "      <th>script</th>\n",
       "      <th>ep_number</th>\n",
       "      <th>Book</th>\n",
       "      <th>total_number</th>\n",
       "    </tr>\n",
       "  </thead>\n",
       "  <tbody>\n",
       "    <tr>\n",
       "      <th>9690</th>\n",
       "      <td>Korra</td>\n",
       "      <td>[Lightens up and smiles.] Let's do it! Let's g...</td>\n",
       "      <td>13</td>\n",
       "      <td>4</td>\n",
       "      <td>52</td>\n",
       "    </tr>\n",
       "    <tr>\n",
       "      <th>9691</th>\n",
       "      <td>Asami</td>\n",
       "      <td>[Surprised.] Really? Okay ... I've always want...</td>\n",
       "      <td>13</td>\n",
       "      <td>4</td>\n",
       "      <td>52</td>\n",
       "    </tr>\n",
       "    <tr>\n",
       "      <th>9692</th>\n",
       "      <td>Korra</td>\n",
       "      <td>Sounds perfect.</td>\n",
       "      <td>13</td>\n",
       "      <td>4</td>\n",
       "      <td>52</td>\n",
       "    </tr>\n",
       "    <tr>\n",
       "      <th>9693</th>\n",
       "      <td>NaN</td>\n",
       "      <td>Fade to the base of the new spirit portal, whe...</td>\n",
       "      <td>13</td>\n",
       "      <td>4</td>\n",
       "      <td>52</td>\n",
       "    </tr>\n",
       "    <tr>\n",
       "      <th>9694</th>\n",
       "      <td>NaN</td>\n",
       "      <td>Roll credits.</td>\n",
       "      <td>13</td>\n",
       "      <td>4</td>\n",
       "      <td>52</td>\n",
       "    </tr>\n",
       "  </tbody>\n",
       "</table>\n",
       "</div>"
      ],
      "text/plain": [
       "     Character                                             script  ep_number  \\\n",
       "9690     Korra  [Lightens up and smiles.] Let's do it! Let's g...         13   \n",
       "9691     Asami  [Surprised.] Really? Okay ... I've always want...         13   \n",
       "9692     Korra                                    Sounds perfect.         13   \n",
       "9693       NaN  Fade to the base of the new spirit portal, whe...         13   \n",
       "9694       NaN                                      Roll credits.         13   \n",
       "\n",
       "      Book  total_number  \n",
       "9690     4            52  \n",
       "9691     4            52  \n",
       "9692     4            52  \n",
       "9693     4            52  \n",
       "9694     4            52  "
      ]
     },
     "execution_count": 25,
     "metadata": {},
     "output_type": "execute_result"
    }
   ],
   "source": [
    "df_atlk.tail()"
   ]
  },
  {
   "cell_type": "markdown",
   "id": "a736e7f1",
   "metadata": {},
   "source": [
    "Dumping the dataframe:"
   ]
  },
  {
   "cell_type": "code",
   "execution_count": 26,
   "id": "9192482a",
   "metadata": {},
   "outputs": [],
   "source": [
    "with open('./data/df_atlk.data', 'wb') as filehandle:\n",
    "    # store the data as binary data stream\n",
    "    pickle.dump(df_atlk, filehandle)"
   ]
  },
  {
   "cell_type": "markdown",
   "id": "ef211b20",
   "metadata": {},
   "source": [
    "## Helper dataframe"
   ]
  },
  {
   "cell_type": "code",
   "execution_count": 27,
   "id": "5a489182",
   "metadata": {},
   "outputs": [],
   "source": [
    "names_list = []\n",
    "\n",
    "for el in seasons[7:15]:\n",
    "    col = el.find_all('a')\n",
    "    for episode in col:\n",
    "        # Check if episode is not a commentary\n",
    "        if not any(x in episode.text for x in ['commentary']):\n",
    "            names_list.append(episode.text)\n",
    "ep_names = tuple(names_list)"
   ]
  },
  {
   "cell_type": "code",
   "execution_count": 28,
   "id": "d6d169ad",
   "metadata": {},
   "outputs": [
    {
     "data": {
      "text/plain": [
       "('Welcome to Republic City',\n",
       " 'A Leaf in the Wind',\n",
       " 'The Revelation',\n",
       " 'The Voice in the Night',\n",
       " 'The Spirit of Competition',\n",
       " 'And the Winner Is...',\n",
       " 'The Aftermath',\n",
       " 'When Extremes Meet',\n",
       " 'Out of the Past',\n",
       " 'Turning the Tides',\n",
       " 'Skeletons in the Closet',\n",
       " 'Endgame',\n",
       " 'Rebel Spirit',\n",
       " 'The Southern Lights',\n",
       " 'Civil Wars, Part 1',\n",
       " 'Civil Wars, Part 2',\n",
       " 'Peacekeepers',\n",
       " 'The Sting',\n",
       " 'Beginnings, Part 1',\n",
       " 'Beginnings, Part 2',\n",
       " 'The Guide',\n",
       " 'A New Spiritual Age',\n",
       " 'Night of a Thousand Stars',\n",
       " 'Harmonic Convergence',\n",
       " 'Darkness Falls',\n",
       " 'Light in the Dark',\n",
       " 'A Breath of Fresh Air',\n",
       " 'Rebirth',\n",
       " 'The Earth Queen',\n",
       " \"In Harm's Way\",\n",
       " 'The Metal Clan',\n",
       " 'Old Wounds',\n",
       " 'Original Airbenders',\n",
       " 'The Terror Within',\n",
       " 'The Stakeout',\n",
       " 'Long Live the Queen',\n",
       " 'The Ultimatum',\n",
       " 'Enter the Void',\n",
       " 'Venom of the Red Lotus',\n",
       " 'After All These Years',\n",
       " 'Korra Alone',\n",
       " 'The Coronation',\n",
       " 'The Calling',\n",
       " 'Enemy at the Gates',\n",
       " 'The Battle of Zaofu',\n",
       " 'Reunion',\n",
       " 'Remembrances',\n",
       " 'Beyond the Wilds',\n",
       " 'Operation Beifong',\n",
       " \"Kuvira's Gambit\",\n",
       " 'Day of the Colossus',\n",
       " 'The Last Stand')"
      ]
     },
     "execution_count": 28,
     "metadata": {},
     "output_type": "execute_result"
    }
   ],
   "source": [
    "ep_names"
   ]
  },
  {
   "cell_type": "code",
   "execution_count": 29,
   "id": "242339b0",
   "metadata": {},
   "outputs": [],
   "source": [
    "korra_ep_names_df = pd.DataFrame(ep_names, columns=['Episode'])"
   ]
  },
  {
   "cell_type": "code",
   "execution_count": 31,
   "id": "468fdd7b",
   "metadata": {},
   "outputs": [],
   "source": [
    "korra_ep_names_df['ep_number'] = ''\n",
    "korra_ep_names_df['Book'] = ''"
   ]
  },
  {
   "cell_type": "code",
   "execution_count": 33,
   "id": "aa4cc4bd",
   "metadata": {},
   "outputs": [
    {
     "data": {
      "text/html": [
       "<div>\n",
       "<style scoped>\n",
       "    .dataframe tbody tr th:only-of-type {\n",
       "        vertical-align: middle;\n",
       "    }\n",
       "\n",
       "    .dataframe tbody tr th {\n",
       "        vertical-align: top;\n",
       "    }\n",
       "\n",
       "    .dataframe thead th {\n",
       "        text-align: right;\n",
       "    }\n",
       "</style>\n",
       "<table border=\"1\" class=\"dataframe\">\n",
       "  <thead>\n",
       "    <tr style=\"text-align: right;\">\n",
       "      <th></th>\n",
       "      <th>Episode</th>\n",
       "      <th>ep_number</th>\n",
       "      <th>Book</th>\n",
       "    </tr>\n",
       "  </thead>\n",
       "  <tbody>\n",
       "    <tr>\n",
       "      <th>0</th>\n",
       "      <td>Welcome to Republic City</td>\n",
       "      <td></td>\n",
       "      <td></td>\n",
       "    </tr>\n",
       "    <tr>\n",
       "      <th>1</th>\n",
       "      <td>A Leaf in the Wind</td>\n",
       "      <td></td>\n",
       "      <td></td>\n",
       "    </tr>\n",
       "    <tr>\n",
       "      <th>2</th>\n",
       "      <td>The Revelation</td>\n",
       "      <td></td>\n",
       "      <td></td>\n",
       "    </tr>\n",
       "    <tr>\n",
       "      <th>3</th>\n",
       "      <td>The Voice in the Night</td>\n",
       "      <td></td>\n",
       "      <td></td>\n",
       "    </tr>\n",
       "    <tr>\n",
       "      <th>4</th>\n",
       "      <td>The Spirit of Competition</td>\n",
       "      <td></td>\n",
       "      <td></td>\n",
       "    </tr>\n",
       "  </tbody>\n",
       "</table>\n",
       "</div>"
      ],
      "text/plain": [
       "                     Episode ep_number Book\n",
       "0   Welcome to Republic City               \n",
       "1         A Leaf in the Wind               \n",
       "2             The Revelation               \n",
       "3     The Voice in the Night               \n",
       "4  The Spirit of Competition               "
      ]
     },
     "execution_count": 33,
     "metadata": {},
     "output_type": "execute_result"
    }
   ],
   "source": [
    "korra_ep_names_df.head()"
   ]
  },
  {
   "cell_type": "code",
   "execution_count": 34,
   "id": "ab47b5d5",
   "metadata": {},
   "outputs": [],
   "source": [
    "ep_count = 0\n",
    "for number in range(len(korra_ep_names_df)):\n",
    "    # The first 12 episodes are from Book 1. Book 2 has 14, Book 3 has 13 and Book 4, 13.\n",
    "    if number < 12:\n",
    "        korra_ep_names_df.at[number, 'Book'] = 1\n",
    "        ep_count += 1\n",
    "        korra_ep_names_df.at[number, 'ep_number'] = ep_count\n",
    "    elif number < 26:\n",
    "        korra_ep_names_df.at[number, 'Book'] = 2\n",
    "        # Small trick to restart episode number counter when we change books\n",
    "        if korra_ep_names_df.iloc[number -\n",
    "                            1]['Book'] != korra_ep_names_df.iloc[number]['Book']:\n",
    "            ep_count = 0\n",
    "        ep_count += 1\n",
    "        korra_ep_names_df.at[number, 'ep_number'] = ep_count\n",
    "    elif number < 39:\n",
    "        korra_ep_names_df.at[number, 'Book'] = 3\n",
    "        # Small trick to restart episode number counter when we change books\n",
    "        if korra_ep_names_df.iloc[number -\n",
    "                            1]['Book'] != korra_ep_names_df.iloc[number]['Book']:\n",
    "            ep_count = 0\n",
    "        ep_count += 1\n",
    "        korra_ep_names_df.at[number, 'ep_number'] = ep_count\n",
    "    else:\n",
    "        korra_ep_names_df.at[number, 'Book'] = 4\n",
    "        # Small trick to restart episode number counter when we change books\n",
    "        if korra_ep_names_df.iloc[number -\n",
    "                            1]['Book'] != korra_ep_names_df.iloc[number]['Book']:\n",
    "            ep_count = 0\n",
    "        ep_count += 1\n",
    "        korra_ep_names_df.at[number, 'ep_number'] = ep_count"
   ]
  },
  {
   "cell_type": "code",
   "execution_count": 36,
   "id": "d5993c88",
   "metadata": {},
   "outputs": [
    {
     "data": {
      "text/html": [
       "<div>\n",
       "<style scoped>\n",
       "    .dataframe tbody tr th:only-of-type {\n",
       "        vertical-align: middle;\n",
       "    }\n",
       "\n",
       "    .dataframe tbody tr th {\n",
       "        vertical-align: top;\n",
       "    }\n",
       "\n",
       "    .dataframe thead th {\n",
       "        text-align: right;\n",
       "    }\n",
       "</style>\n",
       "<table border=\"1\" class=\"dataframe\">\n",
       "  <thead>\n",
       "    <tr style=\"text-align: right;\">\n",
       "      <th></th>\n",
       "      <th>Episode</th>\n",
       "      <th>ep_number</th>\n",
       "      <th>Book</th>\n",
       "    </tr>\n",
       "  </thead>\n",
       "  <tbody>\n",
       "    <tr>\n",
       "      <th>47</th>\n",
       "      <td>Beyond the Wilds</td>\n",
       "      <td>9</td>\n",
       "      <td>4</td>\n",
       "    </tr>\n",
       "    <tr>\n",
       "      <th>48</th>\n",
       "      <td>Operation Beifong</td>\n",
       "      <td>10</td>\n",
       "      <td>4</td>\n",
       "    </tr>\n",
       "    <tr>\n",
       "      <th>49</th>\n",
       "      <td>Kuvira's Gambit</td>\n",
       "      <td>11</td>\n",
       "      <td>4</td>\n",
       "    </tr>\n",
       "    <tr>\n",
       "      <th>50</th>\n",
       "      <td>Day of the Colossus</td>\n",
       "      <td>12</td>\n",
       "      <td>4</td>\n",
       "    </tr>\n",
       "    <tr>\n",
       "      <th>51</th>\n",
       "      <td>The Last Stand</td>\n",
       "      <td>13</td>\n",
       "      <td>4</td>\n",
       "    </tr>\n",
       "  </tbody>\n",
       "</table>\n",
       "</div>"
      ],
      "text/plain": [
       "                Episode ep_number Book\n",
       "47     Beyond the Wilds         9    4\n",
       "48    Operation Beifong        10    4\n",
       "49      Kuvira's Gambit        11    4\n",
       "50  Day of the Colossus        12    4\n",
       "51       The Last Stand        13    4"
      ]
     },
     "execution_count": 36,
     "metadata": {},
     "output_type": "execute_result"
    }
   ],
   "source": [
    "korra_ep_names_df.tail()"
   ]
  },
  {
   "cell_type": "markdown",
   "id": "6a73319a",
   "metadata": {},
   "source": [
    "Dumping the result:"
   ]
  },
  {
   "cell_type": "code",
   "execution_count": 37,
   "id": "62fe8cad",
   "metadata": {},
   "outputs": [],
   "source": [
    "with open('./data/korra_ep_names.data', 'wb') as filehandle:\n",
    "    # store the data as binary data stream\n",
    "    pickle.dump(korra_ep_names_df, filehandle)"
   ]
  },
  {
   "cell_type": "code",
   "execution_count": null,
   "id": "b27d6f00",
   "metadata": {},
   "outputs": [],
   "source": []
  }
 ],
 "metadata": {
  "kernelspec": {
   "display_name": "Python 3",
   "language": "python",
   "name": "python3"
  },
  "language_info": {
   "codemirror_mode": {
    "name": "ipython",
    "version": 3
   },
   "file_extension": ".py",
   "mimetype": "text/x-python",
   "name": "python",
   "nbconvert_exporter": "python",
   "pygments_lexer": "ipython3",
   "version": "3.8.10"
  }
 },
 "nbformat": 4,
 "nbformat_minor": 5
}
